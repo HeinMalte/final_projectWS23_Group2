{
 "cells": [
  {
   "cell_type": "markdown",
   "id": "fa25f870",
   "metadata": {},
   "source": [
    "## CSV Besucher-Kunden outer Merge"
   ]
  },
  {
   "cell_type": "code",
   "execution_count": 1,
   "id": "c9b5a9c8",
   "metadata": {},
   "outputs": [],
   "source": [
    "import pandas as pd\n",
    "\n",
    "# Load the CSV files with the correct delimiter\n",
    "besucher_df = pd.read_csv(\"besucher.csv\", delimiter=';')\n",
    "kunden_df = pd.read_csv(\"kunden.csv\", delimiter=';')\n",
    "\n",
    "# Replace empty cells in 'Geschlecht' with -1 for both datasets\n",
    "besucher_df['Geschlecht'].fillna(-1, inplace=True)\n",
    "kunden_df['Geschlecht'].fillna(-1, inplace=True)\n",
    "\n",
    "# Remove rows where 'Geschlecht' is -1 from both datasets\n",
    "besucher_df = besucher_df[besucher_df['Geschlecht'] != -1]\n",
    "kunden_df = kunden_df[kunden_df['Geschlecht'] != -1]\n",
    "\n",
    "\n",
    "# Converting \"Zeit\", \"Geschlecht\", \"Alter\", damit Datenformat zwischen csv files das gleiche ist, da wir damit voher Probleme hatten\n",
    "besucher_df['Zeit'] = besucher_df['Zeit'].str.replace(',', '.').astype(float).astype(int)\n",
    "kunden_df['Zeit'] = kunden_df ['Zeit'].astype(int)\n",
    "besucher_df['Geschlecht'] = besucher_df['Geschlecht'].astype(int)\n",
    "kunden_df['Geschlecht'] = kunden_df ['Geschlecht'].astype(int)\n",
    "besucher_df['Alter'] = besucher_df['Alter'].astype(int)\n",
    "kunden_df['Alter'] = kunden_df ['Alter'].astype(int)\n",
    "\n",
    "# Konvertiert 'Einkommen' zu float, indem Kommas durch Punkte ersetzt werden, dann zu int\n",
    "besucher_df['Einkommen'] = besucher_df['Einkommen'].astype(str).str.replace(',', '.').astype(float).astype(int)\n",
    "kunden_df['Einkommen'] = kunden_df['Einkommen'].astype(int)\n",
    "\n",
    "# Perform an outer merge\n",
    "merged_df = pd.merge(besucher_df, kunden_df, on=['Alter', 'Einkommen', 'Geschlecht', 'Zeit', 'KundeNr'], how='outer')\n",
    "\n",
    "# Bereinigen des DAtensatzes, in den Spalten  'Einkommen' und \"Alter\" \n",
    "merged_minus_df = merged_df[(merged_df['Einkommen'] <= 100000000) & (merged_df['Einkommen'] >= 0)& (merged_df[\"Alter\"]<= 90)]\n",
    "\n",
    "merged_minus_df.to_csv(\"kunden_besucher_merger.csv\", index=False)"
   ]
  },
  {
   "cell_type": "markdown",
   "id": "3678774f",
   "metadata": {},
   "source": [
    "## Geo Daten reinigen"
   ]
  },
  {
   "cell_type": "code",
   "execution_count": 2,
   "id": "cc0efb8d",
   "metadata": {},
   "outputs": [],
   "source": [
    "\n",
    "# Load the geo.txt file and perform replacements\n",
    "with open( \"geo.txt\", \"r\") as file:\n",
    "    geo_data = file.read()\n",
    "\n",
    "# Replacing specified strings in the geo data\n",
    "geo_data = geo_data.replace('NRW', 'Nordrhein-Westfalen')\n",
    "geo_data = geo_data.replace('DÃ¼sseldorf', 'Nordrhein-Westfalen')\n",
    "geo_data = geo_data.replace('BERLIN', 'Berlin')\n",
    "geo_data = geo_data.replace('Berlin-Charlottenburg', 'Berlin')\n",
    "geo_data = geo_data.replace('Berlin-Mitte', 'Berlin')\n",
    "\n",
    "\n",
    "# Saving the modified geo data to a new file\n",
    "with open('modified_geo.txt', \"w\") as file: file.write(geo_data)\n",
    "\n"
   ]
  },
  {
   "cell_type": "markdown",
   "id": "d1c9594c",
   "metadata": {},
   "source": [
    "## CSV Datei mit Geo daten über KundeNr verbunden"
   ]
  },
  {
   "cell_type": "code",
   "execution_count": 3,
   "id": "b4eeefdf",
   "metadata": {
    "scrolled": false
   },
   "outputs": [
    {
     "name": "stdout",
     "output_type": "stream",
     "text": [
      "   Alter  Einkommen  Geschlecht  Zeit KundeNr  Preis        Niederlassung\n",
      "0     30      39919           0    29   K1814    NaN               Bayern\n",
      "1     41      53430           0    27   K1544    NaN    Baden-Württemberg\n",
      "2     64      73163           0    32   K1945    NaN    Baden-Württemberg\n",
      "3     41      36761           0    44   K1825    NaN    Baden-Württemberg\n",
      "4     35      42684           1    33   K1144    NaN  Nordrhein-Westfalen\n"
     ]
    }
   ],
   "source": [
    "##Mergen der CSV-Geo Daten\n",
    "\n",
    "# Laden der Dateien\n",
    "file1_path = 'kunden_besucher_merger.csv'  # Pfad zur ersten Datei\n",
    "file2_path = 'modified_geo.txt'            # Pfad zur zweiten Datei\n",
    "\n",
    "# Load the modified geo data into a DataFrame\n",
    "# Assuming that the geo data is in a two-column format with 'KundeNr' and 'Location'\n",
    "geo_df = pd.read_csv('modified_geo.txt', delimiter=';', names=['KundeNr', 'Location'])\n",
    "\n",
    "# Lesen der ersten Datei (angenommen, es handelt sich um eine CSV-Datei)\n",
    "data1 = pd.read_csv(file1_path)\n",
    "\n",
    "# Lesen der zweiten Datei (angenommen, es handelt sich um eine Textdatei mit Tabulator als Trennzeichen)\n",
    "data2 = pd.read_csv(file2_path, sep='\\t')\n",
    "\n",
    "# Zusammenführen der Daten\n",
    "merged_data_df = pd.merge(data1, data2, on='KundeNr', how='inner')\n",
    "\n",
    "print(merged_data_df.head())\n",
    "\n",
    "\n",
    "\n"
   ]
  },
  {
   "cell_type": "code",
   "execution_count": 4,
   "id": "20fc4d6e",
   "metadata": {},
   "outputs": [],
   "source": [
    "#Speichern der Zusammengefügten Datei\n",
    "merged_data_df.to_csv(\"df_almost_final.csv\", index=False)"
   ]
  },
  {
   "cell_type": "markdown",
   "id": "dbf8550e",
   "metadata": {},
   "source": [
    "## Hinzufügen von Hilfsvariable (Autokauf ja/nein)"
   ]
  },
  {
   "cell_type": "code",
   "execution_count": 5,
   "id": "5b61c565",
   "metadata": {},
   "outputs": [],
   "source": [
    "# Laden der CSV-Datei mit Komma als Trennzeichen\n",
    "file_path = \"df_almost_final.csv\"  \n",
    "df = pd.read_csv(file_path, sep=',')\n",
    "\n",
    "# Hinzufügen einer neuen Spalte \"Kunde (1=ja)\"\n",
    "# Diese Spalte enthält eine 1, wenn ein Wert in der Spalte \"Preis\" vorhanden ist,\n",
    "# und eine 0, wenn kein Wert in \"Preis\" vorhanden ist\n",
    "df['Kunde (1=ja)'] = df['Preis'].notna().astype(int)\n",
    "\n",
    "# Speichern der geänderten Tabelle in einer neuen Datei\n",
    "df.to_csv('df_final.csv', index=False, sep=\",\")"
   ]
  }
 ],
 "metadata": {
  "kernelspec": {
   "display_name": "Python 3 (ipykernel)",
   "language": "python",
   "name": "python3"
  },
  "language_info": {
   "codemirror_mode": {
    "name": "ipython",
    "version": 3
   },
   "file_extension": ".py",
   "mimetype": "text/x-python",
   "name": "python",
   "nbconvert_exporter": "python",
   "pygments_lexer": "ipython3",
   "version": "3.11.5"
  }
 },
 "nbformat": 4,
 "nbformat_minor": 5
}
