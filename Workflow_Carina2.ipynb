{
 "cells": [
  {
   "cell_type": "code",
   "execution_count": 49,
   "id": "68418526",
   "metadata": {},
   "outputs": [],
   "source": [
    "import pandas as pd\n",
    "import numpy as np\n",
    "import seaborn as sns\n",
    "import matplotlib.pyplot as plt\n",
    "import plotly.express as px\n",
    "import statsmodels.api as sm"
   ]
  },
  {
   "cell_type": "code",
   "execution_count": 50,
   "id": "34937882",
   "metadata": {
    "scrolled": false
   },
   "outputs": [
    {
     "name": "stdout",
     "output_type": "stream",
     "text": [
      "      Alter  Einkommen      Preis  Geschlecht  Zeit KundeNr\n",
      "0        64    66894.0   88160.31         1.0  43.0   K0310\n",
      "1        54    77644.0  103145.70         1.0  40.0   K1042\n",
      "2        55    44341.0   80565.16         0.0  37.0   K0382\n",
      "3        49    67271.0   83949.89         0.0  42.0   K0498\n",
      "4        46    49832.0   93781.58         0.0  41.0   K0552\n",
      "...     ...        ...        ...         ...   ...     ...\n",
      "1099     70    69581.0  103751.58         1.0  51.0   K0467\n",
      "1100     38    48301.0   64230.98         1.0  33.0   K0122\n",
      "1101     67    63547.0  103123.57         1.0  41.0   K1045\n",
      "1102     37    32686.0   49215.87         1.0  36.0   K1096\n",
      "1103     55    71240.0  106132.59         1.0  49.0   K0861\n",
      "\n",
      "[1104 rows x 6 columns]\n"
     ]
    }
   ],
   "source": [
    "kunden_df = pd.read_csv('H:\\Documents\\Abschlussprojekt\\kunden.csv', sep=';')\n",
    "print(kunden_df)"
   ]
  },
  {
   "cell_type": "code",
   "execution_count": 51,
   "id": "2575ab5a",
   "metadata": {
    "scrolled": true
   },
   "outputs": [
    {
     "data": {
      "text/plain": [
       "(1104, 6)"
      ]
     },
     "execution_count": 51,
     "metadata": {},
     "output_type": "execute_result"
    }
   ],
   "source": [
    "kunden_df.shape"
   ]
  },
  {
   "cell_type": "markdown",
   "id": "8529a06e",
   "metadata": {},
   "source": [
    "# Aufgabe 1"
   ]
  },
  {
   "cell_type": "code",
   "execution_count": 52,
   "id": "f90c77ed",
   "metadata": {
    "scrolled": true
   },
   "outputs": [
    {
     "name": "stdout",
     "output_type": "stream",
     "text": [
      "1104\n"
     ]
    }
   ],
   "source": [
    "anzahl_autokauf = len(kunden_df)\n",
    "print(anzahl_autokauf)"
   ]
  },
  {
   "cell_type": "code",
   "execution_count": 53,
   "id": "c202574c",
   "metadata": {
    "scrolled": false
   },
   "outputs": [
    {
     "data": {
      "text/plain": [
       "Alter           int64\n",
       "Einkommen     float64\n",
       "Preis         float64\n",
       "Geschlecht    float64\n",
       "Zeit          float64\n",
       "KundeNr        object\n",
       "dtype: object"
      ]
     },
     "execution_count": 53,
     "metadata": {},
     "output_type": "execute_result"
    }
   ],
   "source": [
    "kunden_df.dtypes"
   ]
  },
  {
   "cell_type": "markdown",
   "id": "49d663b2",
   "metadata": {},
   "source": [
    "# Aufgabe 2"
   ]
  },
  {
   "cell_type": "code",
   "execution_count": 54,
   "id": "3dd0877b",
   "metadata": {
    "scrolled": true
   },
   "outputs": [
    {
     "name": "stdout",
     "output_type": "stream",
     "text": [
      "Höchstpreis: 165482.31\n",
      "Mindestpreis: 21471.65\n",
      "Durchschnittspreis: 88975.19871376813\n"
     ]
    }
   ],
   "source": [
    "preise = kunden_df.iloc[:, 2]\n",
    "\n",
    "hoechstpreis = preise.max()\n",
    "mindestpreis = preise.min()\n",
    "durchschnittspreis = preise.mean()\n",
    "\n",
    "print(f\"Höchstpreis: {hoechstpreis}\")\n",
    "print(f\"Mindestpreis: {mindestpreis}\")\n",
    "print(f\"Durchschnittspreis: {durchschnittspreis}\")"
   ]
  },
  {
   "cell_type": "markdown",
   "id": "bf1bd0f0",
   "metadata": {},
   "source": [
    "# Aufgabe 3"
   ]
  },
  {
   "cell_type": "code",
   "execution_count": 55,
   "id": "50a8f7f2",
   "metadata": {
    "scrolled": true
   },
   "outputs": [
    {
     "name": "stdout",
     "output_type": "stream",
     "text": [
      "Gesamtumsatz: 98228619.38 Euro\n"
     ]
    }
   ],
   "source": [
    "Gesamtumsatz = durchschnittspreis*anzahl_autokauf\n",
    "\n",
    "print(f\"Gesamtumsatz: {Gesamtumsatz:.2f} Euro\")"
   ]
  },
  {
   "cell_type": "markdown",
   "id": "929527d1",
   "metadata": {},
   "source": [
    "# Aufgabe 4"
   ]
  },
  {
   "cell_type": "code",
   "execution_count": 56,
   "id": "d0a2e0b7",
   "metadata": {
    "scrolled": false
   },
   "outputs": [
    {
     "name": "stdout",
     "output_type": "stream",
     "text": [
      "     KundeNr          Niederlassung\n",
      "0      K0001                Sachsen\n",
      "1      K0002                    NRW\n",
      "2      K0003                 Hessen\n",
      "3      K0004                 Bayern\n",
      "4      K0005                 Bayern\n",
      "...      ...                    ...\n",
      "1990   K1991                 Hessen\n",
      "1991   K1992      Baden-Württemberg\n",
      "1992   K1993    Nordrhein-Westfalen\n",
      "1993   K1994                 Berlin\n",
      "1994   K1995  Berlin-Charlottenburg\n",
      "\n",
      "[1995 rows x 2 columns]\n"
     ]
    }
   ],
   "source": [
    "bundesland_df = pd.read_csv('H:\\Documents\\Abschlussprojekt\\geo.txt', sep='\\t')\n",
    "print(bundesland_df)"
   ]
  },
  {
   "cell_type": "code",
   "execution_count": 57,
   "id": "286170dd",
   "metadata": {},
   "outputs": [
    {
     "data": {
      "text/plain": [
       "KundeNr          object\n",
       "Niederlassung    object\n",
       "dtype: object"
      ]
     },
     "execution_count": 57,
     "metadata": {},
     "output_type": "execute_result"
    }
   ],
   "source": [
    "bundesland_df.dtypes"
   ]
  },
  {
   "cell_type": "code",
   "execution_count": 58,
   "id": "53b170db",
   "metadata": {
    "scrolled": true
   },
   "outputs": [
    {
     "name": "stdout",
     "output_type": "stream",
     "text": [
      "     KundeNr          Niederlassung\n",
      "0      K0001                Sachsen\n",
      "1      K0002    Nordrhein-Westfalen\n",
      "2      K0003                 Hessen\n",
      "3      K0004                 Bayern\n",
      "4      K0005                 Bayern\n",
      "...      ...                    ...\n",
      "1990   K1991                 Hessen\n",
      "1991   K1992      Baden-Württemberg\n",
      "1992   K1993    Nordrhein-Westfalen\n",
      "1993   K1994                 Berlin\n",
      "1994   K1995  Berlin-Charlottenburg\n",
      "\n",
      "[1995 rows x 2 columns]\n"
     ]
    }
   ],
   "source": [
    "bundesland_df['Niederlassung'] = bundesland_df['Niederlassung'].replace(['NRW', 'Düsseldorf'], 'Nordrhein-Westfalen')\n",
    "print(bundesland_df)"
   ]
  },
  {
   "cell_type": "code",
   "execution_count": 59,
   "id": "57056dd3",
   "metadata": {},
   "outputs": [
    {
     "name": "stdout",
     "output_type": "stream",
     "text": [
      "     KundeNr        Niederlassung\n",
      "0      K0001              Sachsen\n",
      "1      K0002  Nordrhein-Westfalen\n",
      "2      K0003               Hessen\n",
      "3      K0004               Bayern\n",
      "4      K0005               Bayern\n",
      "...      ...                  ...\n",
      "1990   K1991               Hessen\n",
      "1991   K1992    Baden-Württemberg\n",
      "1992   K1993  Nordrhein-Westfalen\n",
      "1993   K1994               Berlin\n",
      "1994   K1995               Berlin\n",
      "\n",
      "[1995 rows x 2 columns]\n"
     ]
    }
   ],
   "source": [
    "bundesland_df['Niederlassung'] = bundesland_df['Niederlassung'].replace(['Berlin-Charlottenburg', 'Berlin-Mitte', 'BERLIN'], 'Berlin'\n",
    "                                                                       )\n",
    "print(bundesland_df)"
   ]
  },
  {
   "cell_type": "code",
   "execution_count": 60,
   "id": "4525479f",
   "metadata": {
    "scrolled": false
   },
   "outputs": [
    {
     "name": "stdout",
     "output_type": "stream",
     "text": [
      "Niederlassung\n",
      "Baden-Württemberg      382\n",
      "Bayern                 338\n",
      "Nordrhein-Westfalen    327\n",
      "Berlin                 236\n",
      "Niedersachsen          169\n",
      "Hessen                 165\n",
      "Sachsen                162\n",
      "Thüringen               89\n",
      "Hamburg                 67\n",
      "Brandenburg             60\n",
      "Name: count, dtype: int64\n"
     ]
    }
   ],
   "source": [
    "bundesland_auto = bundesland_df['Niederlassung'].value_counts()\n",
    "print(bundesland_auto)"
   ]
  },
  {
   "cell_type": "markdown",
   "id": "69461907",
   "metadata": {},
   "source": [
    "# Aufgabe 5"
   ]
  },
  {
   "cell_type": "code",
   "execution_count": 61,
   "id": "2a08dff9",
   "metadata": {
    "scrolled": false
   },
   "outputs": [
    {
     "name": "stdout",
     "output_type": "stream",
     "text": [
      "Baden-Württemberg: 33988525.91\n",
      "Bayern: 30073617.17\n",
      "Nordrhein-Westfalen: 29094889.98\n",
      "Berlin: 20998146.90\n",
      "Niedersachsen: 15036808.58\n",
      "Hessen: 14680907.79\n",
      "Sachsen: 14413982.19\n",
      "Thüringen: 7918792.69\n",
      "Hamburg: 5961338.31\n",
      "Brandenburg: 5338511.92\n"
     ]
    }
   ],
   "source": [
    "bundesland_auto = {\n",
    "    'Baden-Württemberg': 382,\n",
    "    'Bayern': 338,\n",
    "    'Nordrhein-Westfalen': 327,\n",
    "    'Berlin': 236,\n",
    "    'Niedersachsen': 169,\n",
    "    'Hessen': 165,\n",
    "    'Sachsen': 162,\n",
    "    'Thüringen': 89,\n",
    "    'Hamburg': 67,\n",
    "    'Brandenburg': 60\n",
    "}\n",
    "\n",
    "bundesland_durchschnitt = {bundesland: durchschnittspreis * anzahl_autos for bundesland, anzahl_autos in bundesland_auto.items()}\n",
    "\n",
    "for bundesland, gesamtumsatz in bundesland_durchschnitt.items():\n",
    "    print(f\"{bundesland}: {gesamtumsatz:.2f}\")"
   ]
  },
  {
   "cell_type": "markdown",
   "id": "124585e7",
   "metadata": {},
   "source": [
    "# Aufgabe 6"
   ]
  },
  {
   "cell_type": "code",
   "execution_count": 62,
   "id": "986603c5",
   "metadata": {},
   "outputs": [
    {
     "name": "stdout",
     "output_type": "stream",
     "text": [
      "männer: 701\n",
      "frauen: 398\n",
      "Es gibt mehr männliche Käufer.\n"
     ]
    }
   ],
   "source": [
    "anzahl_männer = len(kunden_df[kunden_df['Geschlecht'] == 1])\n",
    "anzahl_frauen = len(kunden_df[kunden_df['Geschlecht'] == 0])\n",
    "\n",
    "print(f\"männer: {anzahl_männer}\")\n",
    "print(f\"frauen: {anzahl_frauen}\")\n",
    "\n",
    "if anzahl_männer > anzahl_frauen:\n",
    "    print(\"Es gibt mehr männliche Käufer.\")\n",
    "elif anzahl_männer < anzahl_frauen:\n",
    "    print(\"Es gibt mehr weibliche Käufer.\")\n",
    "else:\n",
    "    print(\"Es gibt gleich viele Männer und Frauen.\")"
   ]
  },
  {
   "cell_type": "code",
   "execution_count": 63,
   "id": "3d1e8618",
   "metadata": {
    "scrolled": true
   },
   "outputs": [
    {
     "data": {
      "image/png": "[encoded data removed]",
      "text/plain": [
       "<Figure size 640x480 with 1 Axes>"
      ]
     },
     "metadata": {},
     "output_type": "display_data"
    }
   ],
   "source": [
    "x = np.array([701, 398])\n",
    "plt.pie(x)\n",
    "plt.show()"
   ]
  },
  {
   "cell_type": "markdown",
   "id": "6e574988",
   "metadata": {},
   "source": [
    "# Aufgabe 7"
   ]
  },
  {
   "cell_type": "code",
   "execution_count": 64,
   "id": "7022affe",
   "metadata": {},
   "outputs": [
    {
     "name": "stdout",
     "output_type": "stream",
     "text": [
      "Durchschnittsalter Kunden: 50.4\n"
     ]
    }
   ],
   "source": [
    "alter_zählen = kunden_df[kunden_df['Alter'] <= 75]\n",
    "\n",
    "if not alter_zählen.empty:\n",
    "    durchschnittsalter = alter_zählen['Alter'].mean()\n",
    "    print(f'Durchschnittsalter Kunden: {durchschnittsalter:.1f}')\n",
    "else:\n",
    "    print('Es gibt keine Personen mit einem Alter unter 75.')"
   ]
  },
  {
   "cell_type": "markdown",
   "id": "be687c96",
   "metadata": {},
   "source": [
    "# Aufgabe 8"
   ]
  },
  {
   "cell_type": "code",
   "execution_count": 65,
   "id": "7d7ca0e2",
   "metadata": {
    "scrolled": false
   },
   "outputs": [
    {
     "name": "stdout",
     "output_type": "stream",
     "text": [
      "     Alter           Einkommen  Geschlecht  Zeit KundeNr\n",
      "0       30    39919,0953348874           0  29,0   K1814\n",
      "1       41   53430,67308587748           0  27,0   K1544\n",
      "2       64    73163,2169267002           0  32,0   K1945\n",
      "3       41  36761,482581315344           0  44,0   K1825\n",
      "4       35   42684,33163178136           1  33,0   K1144\n",
      "..     ...                 ...         ...   ...     ...\n",
      "886     32   34391,82496545645           1  48,0   K1211\n",
      "887     41   68516,49543941053           0  34,0   K1375\n",
      "888     65   89685,33344089528           0  23,0   K1965\n",
      "889     68   95714,30526812703           0  32,0   K1540\n",
      "890     49    73319,1870845747           0  27,0   K1207\n",
      "\n",
      "[891 rows x 5 columns]\n"
     ]
    }
   ],
   "source": [
    "besucher_df = pd.read_csv('H:\\\\Documents\\\\Abschlussprojekt\\\\besucher.csv', sep=';')\n",
    "print(besucher_df)"
   ]
  },
  {
   "cell_type": "code",
   "execution_count": 66,
   "id": "88a35196",
   "metadata": {},
   "outputs": [
    {
     "name": "stdout",
     "output_type": "stream",
     "text": [
      "Durchschnittsalter Besucher: 49.9 Jahre\n"
     ]
    }
   ],
   "source": [
    "alter_zählen = besucher_df[besucher_df['Alter'] <= 75]\n",
    "\n",
    "if not alter_zählen.empty:\n",
    "    durchschnittsalter = alter_zählen['Alter'].mean()\n",
    "    print(f'Durchschnittsalter Besucher: {durchschnittsalter:.1f} Jahre')\n",
    "else:\n",
    "    print('Es gibt keine Personen mit einem Alter unter 75.')"
   ]
  },
  {
   "cell_type": "markdown",
   "id": "4e399fae",
   "metadata": {},
   "source": [
    "# Aufgabe 9"
   ]
  },
  {
   "cell_type": "code",
   "execution_count": 67,
   "id": "7f1ab860",
   "metadata": {},
   "outputs": [
    {
     "name": "stdout",
     "output_type": "stream",
     "text": [
      "Durchschnittsalter männlicher Kunden: 50.42 Jahre\n"
     ]
    }
   ],
   "source": [
    "männlich_zählen = kunden_df[(kunden_df['Geschlecht'] == 1) & (kunden_df['Alter'] < 75)]\n",
    "\n",
    "\n",
    "durchschnittsalter_männlich = männlich_zählen['Alter'].mean()\n",
    "\n",
    "print(f'Durchschnittsalter männlicher Kunden: {durchschnittsalter_männlich:.2f} Jahre')"
   ]
  },
  {
   "cell_type": "markdown",
   "id": "e85b1e03",
   "metadata": {},
   "source": [
    "# Aufgabe 10"
   ]
  },
  {
   "cell_type": "code",
   "execution_count": 68,
   "id": "074e646f",
   "metadata": {},
   "outputs": [
    {
     "name": "stdout",
     "output_type": "stream",
     "text": [
      "Durchschnittseinkommen Kunden:  58894.68€\n"
     ]
    }
   ],
   "source": [
    "einkommen_zählen = kunden_df[(kunden_df['Einkommen'] <= 300000) & (kunden_df['Einkommen'] > 0)]\n",
    "durchschnittseinkommen = einkommen_zählen['Einkommen'].mean()\n",
    "print(f'Durchschnittseinkommen Kunden: {durchschnittseinkommen: .2f}€')"
   ]
  },
  {
   "cell_type": "markdown",
   "id": "3ad8025a",
   "metadata": {},
   "source": [
    "# Aufgabe 11"
   ]
  },
  {
   "cell_type": "code",
   "execution_count": 69,
   "id": "5e9f3943",
   "metadata": {
    "scrolled": true
   },
   "outputs": [
    {
     "name": "stdout",
     "output_type": "stream",
     "text": [
      "Pearson-Korrelation: Alter, Einkommen, Preis & Zeit\n",
      "              Alter  Einkommen     Preis      Zeit\n",
      "Alter      1.000000   0.043574  0.770675  0.585900\n",
      "Einkommen  0.043574   1.000000 -0.001685  0.021593\n",
      "Preis      0.770675  -0.001685  1.000000  0.707778\n",
      "Zeit       0.585900   0.021593  0.707778  1.000000\n"
     ]
    },
    {
     "data": {
      "text/plain": [
       "<Axes: >"
      ]
     },
     "execution_count": 69,
     "metadata": {},
     "output_type": "execute_result"
    },
    {
     "data": {
      "image/png": "[encoded data removed]",
      "text/plain": [
       "<Figure size 640x480 with 2 Axes>"
      ]
     },
     "metadata": {},
     "output_type": "display_data"
    }
   ],
   "source": [
    "spalten_variablen = ['Alter', 'Einkommen', 'Preis', 'Zeit']\n",
    "matrix_df = kunden_df[spalten_variablen]\n",
    "\n",
    "\n",
    "korrelation_matrix = matrix_df.corr(method='pearson')\n",
    "\n",
    "print('Pearson-Korrelation: Alter, Einkommen, Preis & Zeit')\n",
    "print(korrelation_matrix)\n",
    "df_corr = matrix_df.select_dtypes(include = np.number)\n",
    "sns.heatmap(df_corr.corr(), annot = True)"
   ]
  },
  {
   "cell_type": "markdown",
   "id": "e4091398",
   "metadata": {},
   "source": [
    "# Aufgabe 12"
   ]
  },
  {
   "cell_type": "code",
   "execution_count": 70,
   "id": "a3d0e58c",
   "metadata": {},
   "outputs": [
    {
     "name": "stdout",
     "output_type": "stream",
     "text": [
      "Summe der Zeit für Besucher: 29,027,032,044,033,027,059,040,031,044,035,037,025,056,030,034,033,040,021,049,037,021,025,046,021,014,046,037,034,044,030,046,046,021,046,022,030,054,057,049,033,045,043,038,047,021,045,027,041,042,030,050,050,035,031,024,037,044,037,049,044,030,039,028,027,051,044,040,023,036,035,034,019,025,044,036,025,037,036,041,028,030,034,046,033,028,015,052,045,046,042,019,045,042,032,036,030,036,022,035,030,024,045,041,036,05,027,035,023,029,035,036,034,012,026,062,052,042,021,028,020,029,045,039,025,040,017,037,047,021,042,029,032,043,023,044,044,055,038,039,036,025,034,029,034,055,060,032,032,036,026,031,041,048,033,044,059,041,03,026,034,031,035,031,036,048,050,037,036,036,040,032,041,032,041,013,045,043,038,024,041,025,030,018,024,050,031,024,045,025,020,017,045,019,030,047,043,037,034,025,034,036,044,030,032,027,033,044,039,031,028,053,040,044,043,036,030,032,040,049,034,031,041,015,028,022,026,032,047,055,047,014,027,041,031,026,045,026,027,018,032,018,020,031,018,033,048,032,036,021,039,047,024,038,025,042,040,042,029,028,032,037,024,015,035,025,034,033,026,020,010,037,026,027,027,042,040,043,048,047,028,018,029,035,022,036,044,050,023,048,042,033,048,016,018,028,044,037,031,030,042,047,026,015,031,030,030,041,028,07,029,036,045,027,029,061,024,043,033,034,022,045,013,057,042,022,037,031,018,039,014,025,027,024,026,016,051,033,056,022,026,052,042,017,046,034,034,031,030,046,039,050,035,025,020,029,035,030,043,016,026,035,035,041,050,036,046,048,031,024,052,049,025,041,034,032,028,042,041,036,045,028,035,034,040,049,050,028,037,039,030,043,039,039,044,038,023,034,032,042,032,040,034,023,041,031,029,044,038,047,026,033,043,038,051,021,027,033,032,043,021,034,040,020,041,029,052,035,027,049,015,036,044,029,030,030,045,048,023,039,051,030,031,026,050,029,052,046,043,029,055,043,035,036,035,038,028,045,041,037,025,039,029,040,052,028,037,011,024,045,046,031,026,032,022,041,051,032,049,028,033,041,032,035,048,050,047,027,045,025,035,044,048,047,051,032,026,033,038,042,040,039,041,046,025,039,012,042,035,036,045,029,037,027,038,031,042,015,047,027,035,054,024,038,053,033,039,022,036,030,024,031,034,036,054,031,043,036,039,022,044,039,042,039,047,020,025,038,040,014,035,036,043,029,031,029,050,043,034,032,036,033,035,056,017,033,040,036,040,041,018,051,029,058,041,030,020,044,027,022,035,033,027,036,041,055,053,030,030,036,057,034,048,036,038,042,038,029,017,032,043,037,016,068,029,037,016,033,040,055,046,027,020,051,059,042,027,035,048,033,041,012,031,052,026,035,039,033,038,044,038,041,016,033,049,031,040,027,038,057,033,024,053,024,041,016,033,036,020,037,043,050,036,043,016,036,035,037,026,034,015,023,032,042,045,056,046,027,014,040,049,043,023,022,041,043,038,036,026,043,035,041,029,041,036,052,047,035,033,033,031,046,028,032,036,037,038,024,045,037,029,014,040,045,042,039,056,042,032,065,038,016,033,032,029,035,039,026,031,046,018,041,041,052,031,053,040,024,052,036,036,045,049,024,020,026,018,055,021,039,032,032,018,059,031,042,057,046,030,037,035,020,051,028,047,036,044,044,030,042,033,046,041,028,025,040,035,047,048,022,050,024,046,051,039,030,025,028,034,038,044,018,040,032,022,015,041,031,08,055,042,024,040,032,020,043,025,043,034,021,035,047,048,022,026,041,035,024,043,044,054,038,033,030,035,040,028,035,048,041,043,043,058,07,046,048,025,021,019,054,024,028,026,047,017,034,026,027,012,040,013,038,055,035,030,052,027,050,034,025,033,020,031,026,031,036,033,039,035,037,036,044,032,050,037,037,038,028,030,052,033,062,026,043,019,035,038,028,028,052,034,022,033,020,020,033,048,034,023,032,027,0\n",
      "Summe der Zeit für Kunden: 48991.0\n"
     ]
    }
   ],
   "source": [
    "besucher_df['Zeit'] = besucher_df['Zeit'].astype(object)\n",
    "besucher_zeit = besucher_df['Zeit'].sum()\n",
    "\n",
    "kunden_zeit = kunden_df['Zeit'].sum()\n",
    "\n",
    "print(\"Summe der Zeit für Besucher:\", besucher_zeit)\n",
    "print(\"Summe der Zeit für Kunden:\", kunden_zeit)"
   ]
  },
  {
   "cell_type": "code",
   "execution_count": 71,
   "id": "8cfa92e0",
   "metadata": {},
   "outputs": [
    {
     "name": "stdout",
     "output_type": "stream",
     "text": [
      "Durchschnittszeit pro Kunde: 44.4\n"
     ]
    }
   ],
   "source": [
    "durchschnittszeit_kunden = kunden_zeit / anzahl_autokauf\n",
    "print(f'Durchschnittszeit pro Kunde: {durchschnittszeit_kunden:.1F}')"
   ]
  },
  {
   "cell_type": "code",
   "execution_count": 72,
   "id": "d2842607",
   "metadata": {
    "scrolled": true
   },
   "outputs": [
    {
     "data": {
      "text/plain": [
       "Alter          int64\n",
       "Einkommen     object\n",
       "Geschlecht     int64\n",
       "Zeit          object\n",
       "KundeNr       object\n",
       "dtype: object"
      ]
     },
     "execution_count": 72,
     "metadata": {},
     "output_type": "execute_result"
    }
   ],
   "source": [
    "besucher_df.dtypes"
   ]
  },
  {
   "cell_type": "markdown",
   "id": "1fdde47a",
   "metadata": {},
   "source": [
    "# Aufgabe 13"
   ]
  },
  {
   "cell_type": "code",
   "execution_count": 73,
   "id": "747ab58d",
   "metadata": {},
   "outputs": [
    {
     "name": "stdout",
     "output_type": "stream",
     "text": [
      "Anzahl Kunden ohne Kredit: 6\n",
      "Anzahl Kunden mit Kredit: 1098\n"
     ]
    }
   ],
   "source": [
    "kunden_df['Kredit genommen'] = kunden_df['Einkommen'] < kunden_df['Preis']\n",
    "\n",
    "kunden_ohne_kredit = kunden_df['Kredit genommen'].value_counts().get(False, 0)\n",
    "kunden_mit_kredit = kunden_df['Kredit genommen'].value_counts().get(True, 0)\n",
    "\n",
    "print(\"Anzahl Kunden ohne Kredit:\", kunden_ohne_kredit)\n",
    "print(\"Anzahl Kunden mit Kredit:\", kunden_mit_kredit)"
   ]
  },
  {
   "cell_type": "code",
   "execution_count": 74,
   "id": "b78e3703",
   "metadata": {
    "scrolled": true
   },
   "outputs": [
    {
     "name": "stdout",
     "output_type": "stream",
     "text": [
      "Verteilung Kredite\n"
     ]
    },
    {
     "data": {
      "image/png": "[encoded data removed]",
      "text/plain": [
       "<Figure size 640x480 with 1 Axes>"
      ]
     },
     "metadata": {},
     "output_type": "display_data"
    }
   ],
   "source": [
    "y = np.array([6, 1098])\n",
    "\n",
    "print('Verteilung Kredite')\n",
    "plt.pie(y)\n",
    "plt.show()"
   ]
  },
  {
   "cell_type": "markdown",
   "id": "b559c4a9",
   "metadata": {},
   "source": [
    "# Aufgabe 14"
   ]
  },
  {
   "cell_type": "code",
   "execution_count": 81,
   "id": "cf7ee340",
   "metadata": {
    "scrolled": true
   },
   "outputs": [
    {
     "name": "stdout",
     "output_type": "stream",
     "text": [
      "                            OLS Regression Results                            \n",
      "==============================================================================\n",
      "Dep. Variable:                  Preis   R-squared:                       0.000\n",
      "Model:                            OLS   Adj. R-squared:                 -0.001\n",
      "Method:                 Least Squares   F-statistic:                  0.003130\n",
      "Date:                Tue, 26 Dec 2023   Prob (F-statistic):              0.955\n",
      "Time:                        11:31:14   Log-Likelihood:                -12722.\n",
      "No. Observations:                1104   AIC:                         2.545e+04\n",
      "Df Residuals:                    1102   BIC:                         2.546e+04\n",
      "Df Model:                           1                                         \n",
      "Covariance Type:            nonrobust                                         \n",
      "==============================================================================\n",
      "                 coef    std err          t      P>|t|      [0.025      0.975]\n",
      "------------------------------------------------------------------------------\n",
      "const       8.898e+04    736.993    120.729      0.000    8.75e+04    9.04e+04\n",
      "Einkommen   -1.37e-06   2.45e-05     -0.056      0.955   -4.94e-05    4.67e-05\n",
      "==============================================================================\n",
      "Omnibus:                       19.375   Durbin-Watson:                   2.020\n",
      "Prob(Omnibus):                  0.000   Jarque-Bera (JB):               11.283\n",
      "Skew:                          -0.035   Prob(JB):                      0.00355\n",
      "Kurtosis:                       2.510   Cond. No.                     3.01e+07\n",
      "==============================================================================\n",
      "\n",
      "Notes:\n",
      "[1] Standard Errors assume that the covariance matrix of the errors is correctly specified.\n",
      "[2] The condition number is large, 3.01e+07. This might indicate that there are\n",
      "strong multicollinearity or other numerical problems.\n"
     ]
    }
   ],
   "source": [
    "X = kunden_df[['Einkommen']]\n",
    "X = sm.add_constant(X)\n",
    "y = kunden_df['Preis']\n",
    "\n",
    "regressionsmodel1 = sm.OLS(y, X).fit()\n",
    "\n",
    "print(regressionsmodel1.summary())"
   ]
  },
  {
   "cell_type": "code",
   "execution_count": 79,
   "id": "c6a47de1",
   "metadata": {
    "scrolled": true
   },
   "outputs": [
    {
     "data": {
      "text/html": [
       "<div>\n",
       "<style scoped>\n",
       "    .dataframe tbody tr th:only-of-type {\n",
       "        vertical-align: middle;\n",
       "    }\n",
       "\n",
       "    .dataframe tbody tr th {\n",
       "        vertical-align: top;\n",
       "    }\n",
       "\n",
       "    .dataframe thead th {\n",
       "        text-align: right;\n",
       "    }\n",
       "</style>\n",
       "<table border=\"1\" class=\"dataframe\">\n",
       "  <thead>\n",
       "    <tr style=\"text-align: right;\">\n",
       "      <th></th>\n",
       "      <th>const</th>\n",
       "      <th>Einkommen</th>\n",
       "      <th>Alter</th>\n",
       "    </tr>\n",
       "  </thead>\n",
       "  <tbody>\n",
       "    <tr>\n",
       "      <th>0</th>\n",
       "      <td>1.0</td>\n",
       "      <td>30000</td>\n",
       "      <td>32</td>\n",
       "    </tr>\n",
       "    <tr>\n",
       "      <th>1</th>\n",
       "      <td>1.0</td>\n",
       "      <td>54000</td>\n",
       "      <td>51</td>\n",
       "    </tr>\n",
       "  </tbody>\n",
       "</table>\n",
       "</div>"
      ],
      "text/plain": [
       "   const  Einkommen  Alter\n",
       "0    1.0      30000     32\n",
       "1    1.0      54000     51"
      ]
     },
     "execution_count": 79,
     "metadata": {},
     "output_type": "execute_result"
    }
   ],
   "source": [
    "from statsmodels.api import add_constant\n",
    "X_predict = pd.DataFrame({\n",
    "    'Einkommen': [30000, 54000],           \n",
    "    'Alter': [32, 51]        \n",
    "})\n",
    "\n",
    "X_predict = add_constant(X_predict, has_constant='add')\n",
    "X_predict"
   ]
  },
  {
   "cell_type": "code",
   "execution_count": null,
   "id": "1d76f099",
   "metadata": {},
   "outputs": [],
   "source": []
  }
 ],
 "metadata": {
  "kernelspec": {
   "display_name": "Python 3 (ipykernel)",
   "language": "python",
   "name": "python3"
  },
  "language_info": {
   "codemirror_mode": {
    "name": "ipython",
    "version": 3
   },
   "file_extension": ".py",
   "mimetype": "text/x-python",
   "name": "python",
   "nbconvert_exporter": "python",
   "pygments_lexer": "ipython3",
   "version": "3.11.5"
  }
 },
 "nbformat": 4,
 "nbformat_minor": 5
}
