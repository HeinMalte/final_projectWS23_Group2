{
 "cells": [
  {
   "cell_type": "code",
   "execution_count": 15,
   "id": "68418526",
   "metadata": {},
   "outputs": [],
   "source": [
    "import pandas as pd\n",
    "import numpy as np\n",
    "import seaborn as sns\n",
    "import matplotlib.pyplot as plt\n",
    "import plotly.express as px\n",
    "import statsmodels.api as sm"
   ]
  },
  {
   "cell_type": "code",
   "execution_count": 16,
   "id": "34937882",
   "metadata": {
    "scrolled": true
   },
   "outputs": [
    {
     "name": "stdout",
     "output_type": "stream",
     "text": [
      "      Alter  Einkommen      Preis  Geschlecht  Zeit KundeNr\n",
      "0        64    66894.0   88160.31         1.0  43.0   K0310\n",
      "1        54    77644.0  103145.70         1.0  40.0   K1042\n",
      "2        55    44341.0   80565.16         0.0  37.0   K0382\n",
      "3        49    67271.0   83949.89         0.0  42.0   K0498\n",
      "4        46    49832.0   93781.58         0.0  41.0   K0552\n",
      "...     ...        ...        ...         ...   ...     ...\n",
      "1099     70    69581.0  103751.58         1.0  51.0   K0467\n",
      "1100     38    48301.0   64230.98         1.0  33.0   K0122\n",
      "1101     67    63547.0  103123.57         1.0  41.0   K1045\n",
      "1102     37    32686.0   49215.87         1.0  36.0   K1096\n",
      "1103     55    71240.0  106132.59         1.0  49.0   K0861\n",
      "\n",
      "[1104 rows x 6 columns]\n"
     ]
    }
   ],
   "source": [
    "kunden_df = pd.read_csv(\"kunden.csv\", sep=';')\n",
    "print(kunden_df)"
   ]
  },
  {
   "cell_type": "code",
   "execution_count": 17,
   "id": "2575ab5a",
   "metadata": {
    "scrolled": true
   },
   "outputs": [
    {
     "data": {
      "text/plain": [
       "(1104, 6)"
      ]
     },
     "execution_count": 17,
     "metadata": {},
     "output_type": "execute_result"
    }
   ],
   "source": [
    "kunden_df.shape"
   ]
  },
  {
   "cell_type": "markdown",
   "id": "8529a06e",
   "metadata": {},
   "source": [
    "# Aufgabe 1"
   ]
  },
  {
   "cell_type": "code",
   "execution_count": 18,
   "id": "40bdc163",
   "metadata": {
    "scrolled": true
   },
   "outputs": [
    {
     "name": "stdout",
     "output_type": "stream",
     "text": [
      "      Alter  Einkommen  Geschlecht  Zeit KundeNr      Preis  \\\n",
      "0        30      39919           0    29   K1814        NaN   \n",
      "1        41      53430           0    27   K1544        NaN   \n",
      "2        64      73163           0    32   K1945        NaN   \n",
      "3        41      36761           0    44   K1825        NaN   \n",
      "4        35      42684           1    33   K1144        NaN   \n",
      "...     ...        ...         ...   ...     ...        ...   \n",
      "1981     70      69581           1    51   K0467  103751.58   \n",
      "1982     38      48301           1    33   K0122   64230.98   \n",
      "1983     67      63547           1    41   K1045  103123.57   \n",
      "1984     37      32686           1    36   K1096   49215.87   \n",
      "1985     55      71240           1    49   K0861  106132.59   \n",
      "\n",
      "            Niederlassung  Kunde (1=ja)  \n",
      "0                  Bayern             0  \n",
      "1       Baden-Württemberg             0  \n",
      "2       Baden-Württemberg             0  \n",
      "3       Baden-Württemberg             0  \n",
      "4     Nordrhein-Westfalen             0  \n",
      "...                   ...           ...  \n",
      "1981            Thüringen             1  \n",
      "1982        Niedersachsen             1  \n",
      "1983               Berlin             1  \n",
      "1984    Baden-Württemberg             1  \n",
      "1985               Bayern             1  \n",
      "\n",
      "[1986 rows x 8 columns]\n",
      "1095\n"
     ]
    }
   ],
   "source": [
    "kunden_bereinigt_df = pd.read_csv(\"df_final.csv\", sep=',')\n",
    "print(kunden_bereinigt_df)\n",
    "\n",
    "# Kunde zählen (Kunde (1=ja) = 1) \n",
    "anzahl_autokauf_bereinigt_df = kunden_bereinigt_df [(kunden_bereinigt_df['Kunde (1=ja)'] == 1) & ( kunden_bereinigt_df['Preis'].notnull())].shape[0]\n",
    "\n",
    "anzahl_autokauf_bereinigt_df\n",
    "\n",
    "print(anzahl_autokauf_bereinigt_df)\n"
   ]
  },
  {
   "cell_type": "code",
   "execution_count": 19,
   "id": "9d9a816a",
   "metadata": {},
   "outputs": [
    {
     "name": "stdout",
     "output_type": "stream",
     "text": [
      "1095\n"
     ]
    }
   ],
   "source": [
    "print(anzahl_autokauf_bereinigt_df)"
   ]
  },
  {
   "cell_type": "code",
   "execution_count": 20,
   "id": "f90c77ed",
   "metadata": {
    "scrolled": true
   },
   "outputs": [
    {
     "name": "stdout",
     "output_type": "stream",
     "text": [
      "1104\n"
     ]
    }
   ],
   "source": [
    "anzahl_autokauf = len(kunden_df)\n",
    "print(anzahl_autokauf)"
   ]
  },
  {
   "cell_type": "code",
   "execution_count": 21,
   "id": "c202574c",
   "metadata": {
    "scrolled": true
   },
   "outputs": [
    {
     "data": {
      "text/plain": [
       "Alter           int64\n",
       "Einkommen     float64\n",
       "Preis         float64\n",
       "Geschlecht    float64\n",
       "Zeit          float64\n",
       "KundeNr        object\n",
       "dtype: object"
      ]
     },
     "execution_count": 21,
     "metadata": {},
     "output_type": "execute_result"
    }
   ],
   "source": [
    "kunden_df.dtypes"
   ]
  },
  {
   "cell_type": "markdown",
   "id": "b150809e",
   "metadata": {},
   "source": [
    "# Aufgabe 2"
   ]
  },
  {
   "cell_type": "code",
   "execution_count": 22,
   "id": "a4666929",
   "metadata": {},
   "outputs": [],
   "source": [
    "kunden_bereinigt_df = pd.read_csv(\"df_final.csv\", sep=',')"
   ]
  },
  {
   "cell_type": "code",
   "execution_count": 23,
   "id": "3ef98402",
   "metadata": {},
   "outputs": [
    {
     "data": {
      "text/plain": [
       "(1986, 8)"
      ]
     },
     "execution_count": 23,
     "metadata": {},
     "output_type": "execute_result"
    }
   ],
   "source": [
    "kunden_bereinigt_df.shape\n"
   ]
  },
  {
   "cell_type": "code",
   "execution_count": 24,
   "id": "507ce6c7",
   "metadata": {},
   "outputs": [
    {
     "data": {
      "text/plain": [
       "Alter              int64\n",
       "Einkommen          int64\n",
       "Geschlecht         int64\n",
       "Zeit               int64\n",
       "KundeNr           object\n",
       "Preis            float64\n",
       "Niederlassung     object\n",
       "Kunde (1=ja)       int64\n",
       "dtype: object"
      ]
     },
     "execution_count": 24,
     "metadata": {},
     "output_type": "execute_result"
    }
   ],
   "source": [
    "kunden_bereinigt_df.dtypes"
   ]
  },
  {
   "cell_type": "code",
   "execution_count": 25,
   "id": "c7ac6672",
   "metadata": {},
   "outputs": [
    {
     "name": "stdout",
     "output_type": "stream",
     "text": [
      "Höchstpreis: 165482.31\n",
      "Mindestpreis: 21471.65\n",
      "Durchschnittspreis: 88889.58\n"
     ]
    }
   ],
   "source": [
    "median_price = kunden_bereinigt_df[\"Preis\"].dropna().median()\n",
    "max_price = kunden_bereinigt_df[\"Preis\"].max()\n",
    "min_price = kunden_bereinigt_df[\"Preis\"].min()\n",
    "\n",
    "print(f\"Höchstpreis: {max_price}\")\n",
    "print(f\"Mindestpreis: {min_price}\")\n",
    "print(f\"Durchschnittspreis: {median_price}\")"
   ]
  },
  {
   "cell_type": "code",
   "execution_count": 26,
   "id": "3dd0877b",
   "metadata": {
    "scrolled": true
   },
   "outputs": [
    {
     "name": "stdout",
     "output_type": "stream",
     "text": [
      "Höchstpreis: 165482.31\n",
      "Mindestpreis: 21471.65\n",
      "Durchschnittspreis: 88975.19871376813\n"
     ]
    }
   ],
   "source": [
    "#Datensatz kunden.csv \n",
    "## Kunden.csv hat den akurateren Durchschnitt \n",
    "\n",
    "preise = kunden_df.iloc[:, 2]\n",
    "\n",
    "hoechstpreis = preise.max()\n",
    "mindestpreis = preise.min()\n",
    "durchschnittspreis = preise.mean()\n",
    "\n",
    "print(f\"Höchstpreis: {hoechstpreis}\")\n",
    "print(f\"Mindestpreis: {mindestpreis}\")\n",
    "print(f\"Durchschnittspreis: {durchschnittspreis}\")"
   ]
  },
  {
   "cell_type": "markdown",
   "id": "3eda6e09",
   "metadata": {},
   "source": [
    "# Aufgabe 3"
   ]
  },
  {
   "cell_type": "code",
   "execution_count": 27,
   "id": "50a8f7f2",
   "metadata": {
    "scrolled": true
   },
   "outputs": [
    {
     "name": "stdout",
     "output_type": "stream",
     "text": [
      "Gesamtumsatz: 98228619.38 Euro\n"
     ]
    }
   ],
   "source": [
    "Gesamtumsatz = durchschnittspreis*anzahl_autokauf\n",
    "\n",
    "print(f\"Gesamtumsatz: {Gesamtumsatz:.2f} Euro\")"
   ]
  },
  {
   "cell_type": "markdown",
   "id": "929527d1",
   "metadata": {},
   "source": [
    "# Aufgabe 4"
   ]
  },
  {
   "cell_type": "code",
   "execution_count": 28,
   "id": "abf9a6b2",
   "metadata": {
    "scrolled": false
   },
   "outputs": [
    {
     "name": "stdout",
     "output_type": "stream",
     "text": [
      "Niederlassung\n",
      "Baden-Württemberg      379\n",
      "Bayern                 336\n",
      "Nordrhein-Westfalen    325\n",
      "Berlin                 235\n",
      "Niedersachsen          168\n",
      "Hessen                 165\n",
      "Sachsen                162\n",
      "Thüringen               89\n",
      "Hamburg                 67\n",
      "Brandenburg             60\n",
      "Name: count, dtype: int64\n"
     ]
    }
   ],
   "source": [
    "#final.csv (7 gelöschte fehlerhafte Kundentdatein)\n",
    "bundesland_auto2 = kunden_bereinigt_df['Niederlassung'].value_counts()\n",
    "print(bundesland_auto2)"
   ]
  },
  {
   "cell_type": "code",
   "execution_count": 29,
   "id": "61c2a288",
   "metadata": {},
   "outputs": [
    {
     "data": {
      "image/png": "[encoded data removed]",
      "text/plain": [
       "<Figure size 1000x800 with 1 Axes>"
      ]
     },
     "metadata": {},
     "output_type": "display_data"
    }
   ],
   "source": [
    "## Diagramm erstellen #df_final_csv\n",
    "\n",
    "import matplotlib.pyplot as plt\n",
    "kategorien = ['Baden-Württemberg', 'Bayern',\"Nordrhein-westfalen\", \"Berlin\", \"Niedersachsen\",\n",
    "              \"Hessen\", \"Sachsen\", \"Thürigen\" , \"Hamburg\", \"Brandenburg\" ]\n",
    "\n",
    "werte = [380, 337, 325, 235, 168, 165, 162, 89, 67, 60]\n",
    "\n",
    "\n",
    "plt.figure(figsize=(10, 8))\n",
    "bars = plt.bar(kategorien, werte, color=['blue', ])\n",
    "\n",
    "\n",
    "for bar in bars:\n",
    "    yval = bar.get_height()\n",
    "    plt.text(bar.get_x() + bar.get_width()/2, yval + 10, yval, ha='center', va='bottom')\n",
    "\n",
    "\n",
    "plt.title('Autoverkauf nach Bundesland')\n",
    "plt.xlabel(\"Bundesländer\")\n",
    "plt.ylabel('Anzahl Kunden')\n",
    "\n",
    "plt.xticks(rotation=40)\n",
    "plt.tight_layout()\n",
    "plt.show()"
   ]
  },
  {
   "cell_type": "code",
   "execution_count": null,
   "id": "58f6de0d",
   "metadata": {},
   "outputs": [],
   "source": []
  },
  {
   "cell_type": "code",
   "execution_count": null,
   "id": "6c8a4bc1",
   "metadata": {},
   "outputs": [],
   "source": []
  },
  {
   "cell_type": "code",
   "execution_count": 30,
   "id": "d0a2e0b7",
   "metadata": {
    "scrolled": false
   },
   "outputs": [
    {
     "name": "stdout",
     "output_type": "stream",
     "text": [
      "     KundeNr          Niederlassung\n",
      "0      K0001                Sachsen\n",
      "1      K0002                    NRW\n",
      "2      K0003                 Hessen\n",
      "3      K0004                 Bayern\n",
      "4      K0005                 Bayern\n",
      "...      ...                    ...\n",
      "1990   K1991                 Hessen\n",
      "1991   K1992      Baden-Württemberg\n",
      "1992   K1993    Nordrhein-Westfalen\n",
      "1993   K1994                 Berlin\n",
      "1994   K1995  Berlin-Charlottenburg\n",
      "\n",
      "[1995 rows x 2 columns]\n"
     ]
    }
   ],
   "source": [
    "bundesland_df = pd.read_csv('geo.txt', sep='\\t')\n",
    "print(bundesland_df)"
   ]
  },
  {
   "cell_type": "code",
   "execution_count": 31,
   "id": "286170dd",
   "metadata": {},
   "outputs": [
    {
     "data": {
      "text/plain": [
       "KundeNr          object\n",
       "Niederlassung    object\n",
       "dtype: object"
      ]
     },
     "execution_count": 31,
     "metadata": {},
     "output_type": "execute_result"
    }
   ],
   "source": [
    "bundesland_df.dtypes"
   ]
  },
  {
   "cell_type": "code",
   "execution_count": 32,
   "id": "53b170db",
   "metadata": {
    "scrolled": true
   },
   "outputs": [
    {
     "name": "stdout",
     "output_type": "stream",
     "text": [
      "     KundeNr          Niederlassung\n",
      "0      K0001                Sachsen\n",
      "1      K0002    Nordrhein-Westfalen\n",
      "2      K0003                 Hessen\n",
      "3      K0004                 Bayern\n",
      "4      K0005                 Bayern\n",
      "...      ...                    ...\n",
      "1990   K1991                 Hessen\n",
      "1991   K1992      Baden-Württemberg\n",
      "1992   K1993    Nordrhein-Westfalen\n",
      "1993   K1994                 Berlin\n",
      "1994   K1995  Berlin-Charlottenburg\n",
      "\n",
      "[1995 rows x 2 columns]\n"
     ]
    }
   ],
   "source": [
    "bundesland_df['Niederlassung'] = bundesland_df['Niederlassung'].replace(['NRW', 'Düsseldorf'], 'Nordrhein-Westfalen')\n",
    "print(bundesland_df)"
   ]
  },
  {
   "cell_type": "code",
   "execution_count": 33,
   "id": "57056dd3",
   "metadata": {},
   "outputs": [
    {
     "name": "stdout",
     "output_type": "stream",
     "text": [
      "     KundeNr        Niederlassung\n",
      "0      K0001              Sachsen\n",
      "1      K0002  Nordrhein-Westfalen\n",
      "2      K0003               Hessen\n",
      "3      K0004               Bayern\n",
      "4      K0005               Bayern\n",
      "...      ...                  ...\n",
      "1990   K1991               Hessen\n",
      "1991   K1992    Baden-Württemberg\n",
      "1992   K1993  Nordrhein-Westfalen\n",
      "1993   K1994               Berlin\n",
      "1994   K1995               Berlin\n",
      "\n",
      "[1995 rows x 2 columns]\n"
     ]
    }
   ],
   "source": [
    "bundesland_df['Niederlassung'] = bundesland_df['Niederlassung'].replace(['Berlin-Charlottenburg', 'Berlin-Mitte', 'BERLIN'], 'Berlin'\n",
    "                                                                       )\n",
    "print(bundesland_df)"
   ]
  },
  {
   "cell_type": "code",
   "execution_count": 34,
   "id": "4525479f",
   "metadata": {
    "scrolled": false
   },
   "outputs": [
    {
     "name": "stdout",
     "output_type": "stream",
     "text": [
      "Niederlassung\n",
      "Baden-Württemberg      382\n",
      "Bayern                 338\n",
      "Nordrhein-Westfalen    327\n",
      "Berlin                 236\n",
      "Niedersachsen          169\n",
      "Hessen                 165\n",
      "Sachsen                162\n",
      "Thüringen               89\n",
      "Hamburg                 67\n",
      "Brandenburg             60\n",
      "Name: count, dtype: int64\n"
     ]
    }
   ],
   "source": [
    "bundesland_auto = bundesland_df['Niederlassung'].value_counts()\n",
    "print(bundesland_auto)"
   ]
  },
  {
   "cell_type": "markdown",
   "id": "69461907",
   "metadata": {},
   "source": [
    "# Aufgabe 5"
   ]
  },
  {
   "cell_type": "code",
   "execution_count": 35,
   "id": "1eb1d91d",
   "metadata": {
    "scrolled": true
   },
   "outputs": [
    {
     "name": "stdout",
     "output_type": "stream",
     "text": [
      "Baden-Württemberg: 33778040.40\n",
      "Bayern: 29955788.46\n",
      "Nordrhein-Westfalen: 28889113.50\n",
      "Berlin: 20889051.30\n",
      "Niedersachsen: 14933449.44\n",
      "Hessen: 14666780.70\n",
      "Sachsen: 14400111.96\n",
      "Thüringen: 7911172.62\n",
      "Hamburg : 5955601.86\n",
      "Brandenburg: 5333374.80\n"
     ]
    }
   ],
   "source": [
    "#df_final.csv (#unterschied ist nur der medain preis und 7 gelöschte Kundendatein )\n",
    "bundesland_auto2 = {\n",
    "\"Baden-Württemberg\": 380,\n",
    "\"Bayern\": 337,\n",
    "\"Nordrhein-Westfalen\": 325,\n",
    "\"Berlin\": 235,\n",
    "\"Niedersachsen\": 168,\n",
    "\"Hessen\": 165,\n",
    "\"Sachsen\": 162,\n",
    "\"Thüringen\": 89,\n",
    "\"Hamburg \": 67,\n",
    "\"Brandenburg\": 60,\n",
    "}\n",
    "\n",
    "bundesland_durchschnitt2 = {bundesland: median_price * anzahl_autos for bundesland, anzahl_autos in bundesland_auto2.items()}\n",
    "\n",
    "for bundesland, gesamtumsatz in bundesland_durchschnitt2.items():\n",
    "    print(f\"{bundesland}: {gesamtumsatz:.2f}\")"
   ]
  },
  {
   "cell_type": "code",
   "execution_count": 36,
   "id": "2a08dff9",
   "metadata": {
    "scrolled": true
   },
   "outputs": [
    {
     "name": "stdout",
     "output_type": "stream",
     "text": [
      "Baden-Württemberg: 33988525.91\n",
      "Bayern: 30073617.17\n",
      "Nordrhein-Westfalen: 29094889.98\n",
      "Berlin: 20998146.90\n",
      "Niedersachsen: 15036808.58\n",
      "Hessen: 14680907.79\n",
      "Sachsen: 14413982.19\n",
      "Thüringen: 7918792.69\n",
      "Hamburg: 5961338.31\n",
      "Brandenburg: 5338511.92\n"
     ]
    }
   ],
   "source": [
    "bundesland_auto = {\n",
    "    'Baden-Württemberg': 382,\n",
    "    'Bayern': 338,\n",
    "    'Nordrhein-Westfalen': 327,\n",
    "    'Berlin': 236,\n",
    "    'Niedersachsen': 169,\n",
    "    'Hessen': 165,\n",
    "    'Sachsen': 162,\n",
    "    'Thüringen': 89,\n",
    "    'Hamburg': 67,\n",
    "    'Brandenburg': 60\n",
    "}\n",
    "\n",
    "bundesland_durchschnitt = {bundesland: durchschnittspreis * anzahl_autos for bundesland, anzahl_autos in bundesland_auto.items()}\n",
    "\n",
    "for bundesland, gesamtumsatz in bundesland_durchschnitt.items():\n",
    "    print(f\"{bundesland}: {gesamtumsatz:.2f}\")"
   ]
  },
  {
   "cell_type": "markdown",
   "id": "124585e7",
   "metadata": {},
   "source": [
    "# Aufgabe 6"
   ]
  },
  {
   "cell_type": "code",
   "execution_count": 37,
   "id": "8be11e6b",
   "metadata": {
    "scrolled": true
   },
   "outputs": [
    {
     "name": "stdout",
     "output_type": "stream",
     "text": [
      "männer: 700\n",
      "frauen: 395\n",
      "Es gibt mehr männliche Käufer.\n"
     ]
    }
   ],
   "source": [
    "#df_final.csv #es sind nur 2 Frauen weniger da kunden.csv die No Value bei geschlecht auch nicht berücksichtigt\n",
    "male_purchases = kunden_bereinigt_df[(kunden_bereinigt_df['Geschlecht'] == 1) & (kunden_bereinigt_df['Kunde (1=ja)'] == 1)].shape[0]\n",
    "female_purchases = kunden_bereinigt_df[(kunden_bereinigt_df['Geschlecht'] == 0) & (kunden_bereinigt_df['Kunde (1=ja)'] == 1)].shape[0]\n",
    "\n",
    "\n",
    "print(f\"männer: {male_purchases}\")\n",
    "print(f\"frauen: {female_purchases}\")\n",
    "\n",
    "\n",
    "\n",
    "if male_purchases > female_purchases:\n",
    "    print(\"Es gibt mehr männliche Käufer.\")\n",
    "elif male_purchases < female_purchases:\n",
    "    print(\"Es gibt mehr weibliche Käufer.\")\n",
    "else:\n",
    "    print(\"Es gibt gleich viele Männer und Frauen.\")"
   ]
  },
  {
   "cell_type": "code",
   "execution_count": 38,
   "id": "1ab504c1",
   "metadata": {},
   "outputs": [
    {
     "data": {
      "image/png": "[encoded data removed]",
      "text/plain": [
       "<Figure size 640x480 with 1 Axes>"
      ]
     },
     "metadata": {},
     "output_type": "display_data"
    }
   ],
   "source": [
    "#df_final.csv Grafik\n",
    "import matplotlib.pyplot as plt\n",
    "labels=\"Männer\",\"Frauen\"\n",
    "sizes= [701, 396]\n",
    "colors= [\"royalblue\", \"fuchsia\"]\n",
    "\n",
    "fig1, ax1= plt.subplots()\n",
    "ax1.pie(sizes, labels=labels, \n",
    "colors=colors, autopct=\"%1.1f%%\", \n",
    "startangle=90)\n",
    "\n",
    "ax1.axis(\"equal\")\n",
    "\n",
    "plt.title(\"Kaufübersicht nach Geschlecht\")\n",
    "\n",
    "plt.show()"
   ]
  },
  {
   "cell_type": "code",
   "execution_count": 39,
   "id": "986603c5",
   "metadata": {},
   "outputs": [
    {
     "name": "stdout",
     "output_type": "stream",
     "text": [
      "männer: 701\n",
      "frauen: 398\n",
      "Es gibt mehr männliche Käufer.\n"
     ]
    }
   ],
   "source": [
    "anzahl_männer = len(kunden_df[kunden_df['Geschlecht'] == 1])\n",
    "anzahl_frauen = len(kunden_df[kunden_df['Geschlecht'] == 0])\n",
    "\n",
    "print(f\"männer: {anzahl_männer}\")\n",
    "print(f\"frauen: {anzahl_frauen}\")\n",
    "\n",
    "if anzahl_männer > anzahl_frauen:\n",
    "    print(\"Es gibt mehr männliche Käufer.\")\n",
    "elif anzahl_männer < anzahl_frauen:\n",
    "    print(\"Es gibt mehr weibliche Käufer.\")\n",
    "else:\n",
    "    print(\"Es gibt gleich viele Männer und Frauen.\")"
   ]
  },
  {
   "cell_type": "code",
   "execution_count": 40,
   "id": "3d1e8618",
   "metadata": {
    "scrolled": false
   },
   "outputs": [
    {
     "data": {
      "image/png": "[encoded data removed]",
      "text/plain": [
       "<Figure size 640x480 with 1 Axes>"
      ]
     },
     "metadata": {},
     "output_type": "display_data"
    }
   ],
   "source": [
    "x = np.array([701, 398])\n",
    "plt.pie(x)\n",
    "plt.show()"
   ]
  },
  {
   "cell_type": "markdown",
   "id": "6e574988",
   "metadata": {},
   "source": [
    "# Aufgabe 7"
   ]
  },
  {
   "cell_type": "code",
   "execution_count": 42,
   "id": "a7cb5b22",
   "metadata": {},
   "outputs": [
    {
     "name": "stdout",
     "output_type": "stream",
     "text": [
      "Durchschnittsalter der Kunden: 50.32694063926941\n"
     ]
    }
   ],
   "source": [
    "\n",
    "mean_age_customers = kunden_bereinigt_df[kunden_bereinigt_df[\"Kunde (1=ja)\"] == 1][\"Alter\"].mean()\n",
    "\n",
    "\n",
    "# Ausgabe der Ergebnisse\n",
    "print(f\"Durchschnittsalter der Kunden: {mean_age_customers}\")\n",
    "\n"
   ]
  },
  {
   "cell_type": "markdown",
   "id": "be687c96",
   "metadata": {},
   "source": [
    "# Aufgabe 8"
   ]
  },
  {
   "cell_type": "code",
   "execution_count": 44,
   "id": "488bc917",
   "metadata": {},
   "outputs": [
    {
     "name": "stdout",
     "output_type": "stream",
     "text": [
      "Durchschnittsalter der Besucher: 49.88103254769921\n"
     ]
    }
   ],
   "source": [
    "#df_fianl.csv     \n",
    "mean_age_visitors = kunden_bereinigt_df[kunden_bereinigt_df[\"Kunde (1=ja)\"] == 0][\"Alter\"].mean()\n",
    "print(f\"Durchschnittsalter der Besucher: {mean_age_visitors}\")"
   ]
  },
  {
   "cell_type": "code",
   "execution_count": 45,
   "id": "7d7ca0e2",
   "metadata": {
    "scrolled": true
   },
   "outputs": [
    {
     "name": "stdout",
     "output_type": "stream",
     "text": [
      "     Alter           Einkommen  Geschlecht  Zeit KundeNr\n",
      "0       30    39919,0953348874           0  29,0   K1814\n",
      "1       41   53430,67308587748           0  27,0   K1544\n",
      "2       64    73163,2169267002           0  32,0   K1945\n",
      "3       41  36761,482581315344           0  44,0   K1825\n",
      "4       35   42684,33163178136           1  33,0   K1144\n",
      "..     ...                 ...         ...   ...     ...\n",
      "886     32   34391,82496545645           1  48,0   K1211\n",
      "887     41   68516,49543941053           0  34,0   K1375\n",
      "888     65   89685,33344089528           0  23,0   K1965\n",
      "889     68   95714,30526812703           0  32,0   K1540\n",
      "890     49    73319,1870845747           0  27,0   K1207\n",
      "\n",
      "[891 rows x 5 columns]\n"
     ]
    }
   ],
   "source": [
    "besucher_df = pd.read_csv (\"Besucher.csv\", sep= \";\")\n",
    "print(besucher_df)"
   ]
  },
  {
   "cell_type": "markdown",
   "id": "4e399fae",
   "metadata": {},
   "source": [
    "# Aufgabe 9"
   ]
  },
  {
   "cell_type": "code",
   "execution_count": 47,
   "id": "95bfb360",
   "metadata": {},
   "outputs": [
    {
     "name": "stdout",
     "output_type": "stream",
     "text": [
      "Durchschnittsalter männlicher Kunden: 50.424285714285716\n"
     ]
    }
   ],
   "source": [
    "\n",
    "\n",
    "# Filtern nach männlichen Kunden =1 \n",
    "male_customers = kunden_bereinigt_df[(kunden_bereinigt_df[\"Kunde (1=ja)\"] == 1) & (kunden_bereinigt_df[\"Geschlecht\"] == 1)]\n",
    "\n",
    "# Berechnen\n",
    "mean_age_male_customers = male_customers[\"Alter\"].mean()\n",
    "\n",
    "print(f\"Durchschnittsalter männlicher Kunden: {mean_age_male_customers}\")\n",
    "\n"
   ]
  },
  {
   "cell_type": "markdown",
   "id": "e85b1e03",
   "metadata": {},
   "source": [
    "# Aufgabe 10"
   ]
  },
  {
   "cell_type": "code",
   "execution_count": 49,
   "id": "189d8244",
   "metadata": {},
   "outputs": [
    {
     "name": "stdout",
     "output_type": "stream",
     "text": [
      "Durchschnittseinkommen Kunden:  59038.75€\n"
     ]
    }
   ],
   "source": [
    "#df_final.csv\n",
    "einkommen_zählen = kunden_bereinigt_df\n",
    "durchschnittseinkommen = einkommen_zählen['Einkommen'].mean()\n",
    "print(f'Durchschnittseinkommen Kunden: {durchschnittseinkommen: .2f}€')"
   ]
  },
  {
   "cell_type": "markdown",
   "id": "3ad8025a",
   "metadata": {},
   "source": [
    "# Aufgabe 11"
   ]
  },
  {
   "cell_type": "code",
   "execution_count": 51,
   "id": "032aae89",
   "metadata": {},
   "outputs": [
    {
     "name": "stdout",
     "output_type": "stream",
     "text": [
      "Pearson-Korrelation: Alter, Einkommen, Preis & Zeit\n",
      "              Alter  Einkommen     Preis      Zeit\n",
      "Alter      1.000000   0.784074  0.781911  0.313108\n",
      "Einkommen  0.784074   1.000000  0.886091  0.392973\n",
      "Preis      0.781911   0.886091  1.000000  0.705716\n",
      "Zeit       0.313108   0.392973  0.705716  1.000000\n"
     ]
    },
    {
     "data": {
      "text/plain": [
       "<Axes: >"
      ]
     },
     "execution_count": 51,
     "metadata": {},
     "output_type": "execute_result"
    },
    {
     "data": {
      "image/png": "[encoded data removed]",
      "text/plain": [
       "<Figure size 640x480 with 2 Axes>"
      ]
     },
     "metadata": {},
     "output_type": "display_data"
    }
   ],
   "source": [
    "spalten_variablen = ['Alter', 'Einkommen', 'Preis', 'Zeit']\n",
    "matrix_df = kunden_bereinigt_df[spalten_variablen]\n",
    "\n",
    "\n",
    "korrelation_matrix = matrix_df.corr(method='pearson')\n",
    "\n",
    "print('Pearson-Korrelation: Alter, Einkommen, Preis & Zeit')\n",
    "print(korrelation_matrix)\n",
    "df_corr = matrix_df.select_dtypes(include = np.number)\n",
    "sns.heatmap(df_corr.corr(), annot = True)"
   ]
  },
  {
   "cell_type": "markdown",
   "id": "e4091398",
   "metadata": {},
   "source": [
    "# Aufgabe 12"
   ]
  },
  {
   "cell_type": "code",
   "execution_count": 53,
   "id": "de084898",
   "metadata": {},
   "outputs": [
    {
     "name": "stdout",
     "output_type": "stream",
     "text": [
      "Summe der Testfahrtzeit von Besucher: 31333.0\n",
      "Summe der Testfahrtzeit von Kunden: 48525.0\n"
     ]
    }
   ],
   "source": [
    "#df_final.csv\n",
    "\n",
    "kunden_bereinigt_df['Zeit'].describe()\n",
    "\n",
    "sum_time_visitors = kunden_bereinigt_df[kunden_bereinigt_df['Kunde (1=ja)'] == 0]['Zeit'].sum()\n",
    "sum_time_customers = kunden_bereinigt_df[kunden_bereinigt_df['Kunde (1=ja)'] == 1]['Zeit'].sum()\n",
    "\n",
    "\n",
    "print(f'Summe der Testfahrtzeit von Besucher: {sum_time_visitors:.1F}')\n",
    "print(f'Summe der Testfahrtzeit von Kunden: {sum_time_customers:.1F}')\n"
   ]
  },
  {
   "cell_type": "code",
   "execution_count": 54,
   "id": "791fec11",
   "metadata": {},
   "outputs": [
    {
     "name": "stdout",
     "output_type": "stream",
     "text": [
      "Durchschnittliche Testfahrzeit pro Kunde: 44.3\n"
     ]
    }
   ],
   "source": [
    "#df_final.csv\n",
    "durchschnittszeit_kunden = sum_time_customers / anzahl_autokauf_bereinigt_df\n",
    "print(f'Durchschnittliche Testfahrzeit pro Kunde: {durchschnittszeit_kunden:.1F}')\n"
   ]
  },
  {
   "cell_type": "code",
   "execution_count": 55,
   "id": "a3d0e58c",
   "metadata": {},
   "outputs": [
    {
     "name": "stdout",
     "output_type": "stream",
     "text": [
      "Summe der Zeit für Besucher: 29,027,032,044,033,027,059,040,031,044,035,037,025,056,030,034,033,040,021,049,037,021,025,046,021,014,046,037,034,044,030,046,046,021,046,022,030,054,057,049,033,045,043,038,047,021,045,027,041,042,030,050,050,035,031,024,037,044,037,049,044,030,039,028,027,051,044,040,023,036,035,034,019,025,044,036,025,037,036,041,028,030,034,046,033,028,015,052,045,046,042,019,045,042,032,036,030,036,022,035,030,024,045,041,036,05,027,035,023,029,035,036,034,012,026,062,052,042,021,028,020,029,045,039,025,040,017,037,047,021,042,029,032,043,023,044,044,055,038,039,036,025,034,029,034,055,060,032,032,036,026,031,041,048,033,044,059,041,03,026,034,031,035,031,036,048,050,037,036,036,040,032,041,032,041,013,045,043,038,024,041,025,030,018,024,050,031,024,045,025,020,017,045,019,030,047,043,037,034,025,034,036,044,030,032,027,033,044,039,031,028,053,040,044,043,036,030,032,040,049,034,031,041,015,028,022,026,032,047,055,047,014,027,041,031,026,045,026,027,018,032,018,020,031,018,033,048,032,036,021,039,047,024,038,025,042,040,042,029,028,032,037,024,015,035,025,034,033,026,020,010,037,026,027,027,042,040,043,048,047,028,018,029,035,022,036,044,050,023,048,042,033,048,016,018,028,044,037,031,030,042,047,026,015,031,030,030,041,028,07,029,036,045,027,029,061,024,043,033,034,022,045,013,057,042,022,037,031,018,039,014,025,027,024,026,016,051,033,056,022,026,052,042,017,046,034,034,031,030,046,039,050,035,025,020,029,035,030,043,016,026,035,035,041,050,036,046,048,031,024,052,049,025,041,034,032,028,042,041,036,045,028,035,034,040,049,050,028,037,039,030,043,039,039,044,038,023,034,032,042,032,040,034,023,041,031,029,044,038,047,026,033,043,038,051,021,027,033,032,043,021,034,040,020,041,029,052,035,027,049,015,036,044,029,030,030,045,048,023,039,051,030,031,026,050,029,052,046,043,029,055,043,035,036,035,038,028,045,041,037,025,039,029,040,052,028,037,011,024,045,046,031,026,032,022,041,051,032,049,028,033,041,032,035,048,050,047,027,045,025,035,044,048,047,051,032,026,033,038,042,040,039,041,046,025,039,012,042,035,036,045,029,037,027,038,031,042,015,047,027,035,054,024,038,053,033,039,022,036,030,024,031,034,036,054,031,043,036,039,022,044,039,042,039,047,020,025,038,040,014,035,036,043,029,031,029,050,043,034,032,036,033,035,056,017,033,040,036,040,041,018,051,029,058,041,030,020,044,027,022,035,033,027,036,041,055,053,030,030,036,057,034,048,036,038,042,038,029,017,032,043,037,016,068,029,037,016,033,040,055,046,027,020,051,059,042,027,035,048,033,041,012,031,052,026,035,039,033,038,044,038,041,016,033,049,031,040,027,038,057,033,024,053,024,041,016,033,036,020,037,043,050,036,043,016,036,035,037,026,034,015,023,032,042,045,056,046,027,014,040,049,043,023,022,041,043,038,036,026,043,035,041,029,041,036,052,047,035,033,033,031,046,028,032,036,037,038,024,045,037,029,014,040,045,042,039,056,042,032,065,038,016,033,032,029,035,039,026,031,046,018,041,041,052,031,053,040,024,052,036,036,045,049,024,020,026,018,055,021,039,032,032,018,059,031,042,057,046,030,037,035,020,051,028,047,036,044,044,030,042,033,046,041,028,025,040,035,047,048,022,050,024,046,051,039,030,025,028,034,038,044,018,040,032,022,015,041,031,08,055,042,024,040,032,020,043,025,043,034,021,035,047,048,022,026,041,035,024,043,044,054,038,033,030,035,040,028,035,048,041,043,043,058,07,046,048,025,021,019,054,024,028,026,047,017,034,026,027,012,040,013,038,055,035,030,052,027,050,034,025,033,020,031,026,031,036,033,039,035,037,036,044,032,050,037,037,038,028,030,052,033,062,026,043,019,035,038,028,028,052,034,022,033,020,020,033,048,034,023,032,027,0\n",
      "Summe der Zeit für Kunden: 48991.0\n"
     ]
    }
   ],
   "source": [
    "besucher_df['Zeit'] = besucher_df['Zeit'].astype(object)\n",
    "besucher_zeit = besucher_df['Zeit'].sum()\n",
    "\n",
    "kunden_zeit = kunden_df['Zeit'].sum()\n",
    "\n",
    "print(\"Summe der Zeit für Besucher:\", besucher_zeit)\n",
    "print(\"Summe der Zeit für Kunden:\", kunden_zeit)"
   ]
  },
  {
   "cell_type": "code",
   "execution_count": 56,
   "id": "8cfa92e0",
   "metadata": {},
   "outputs": [
    {
     "name": "stdout",
     "output_type": "stream",
     "text": [
      "Durchschnittszeit pro Kunde: 44.4\n"
     ]
    }
   ],
   "source": [
    "durchschnittszeit_kunden2 = kunden_zeit / anzahl_autokauf\n",
    "print(f'Durchschnittszeit pro Kunde: {durchschnittszeit_kunden2:.1F}')"
   ]
  },
  {
   "cell_type": "code",
   "execution_count": 57,
   "id": "d2842607",
   "metadata": {
    "scrolled": true
   },
   "outputs": [
    {
     "data": {
      "text/plain": [
       "Alter          int64\n",
       "Einkommen     object\n",
       "Geschlecht     int64\n",
       "Zeit          object\n",
       "KundeNr       object\n",
       "dtype: object"
      ]
     },
     "execution_count": 57,
     "metadata": {},
     "output_type": "execute_result"
    }
   ],
   "source": [
    "besucher_df.dtypes"
   ]
  },
  {
   "cell_type": "markdown",
   "id": "1fdde47a",
   "metadata": {},
   "source": [
    "# Aufgabe 13"
   ]
  },
  {
   "cell_type": "code",
   "execution_count": 58,
   "id": "6502c50d",
   "metadata": {},
   "outputs": [
    {
     "name": "stdout",
     "output_type": "stream",
     "text": [
      "Anzahl Kunden ohne Kredit: 5\n",
      "Anzahl Kunden mit Kredit: 1090\n"
     ]
    }
   ],
   "source": [
    "#df_final_csv\n",
    "kunden_bereinigt_df['Kredit genommen'] = kunden_bereinigt_df['Einkommen'] < kunden_bereinigt_df['Preis']\n",
    "\n",
    "kunden_ohne_kredit = kunden_bereinigt_df[kunden_bereinigt_df['Kunde (1=ja)'] == 1]['Kredit genommen'].value_counts().get(False, 0)\n",
    "kunden_mit_kredit = kunden_bereinigt_df[kunden_bereinigt_df['Kunde (1=ja)'] == 1]['Kredit genommen'].value_counts().get(True, 0)\n",
    "\n",
    "print(\"Anzahl Kunden ohne Kredit:\", kunden_ohne_kredit)\n",
    "print(\"Anzahl Kunden mit Kredit:\", kunden_mit_kredit)\n",
    "\n",
    "\n"
   ]
  },
  {
   "cell_type": "code",
   "execution_count": 59,
   "id": "47cc3e0f",
   "metadata": {
    "scrolled": true
   },
   "outputs": [
    {
     "data": {
      "image/png": "[encoded data removed]",
      "text/plain": [
       "<Figure size 1000x600 with 1 Axes>"
      ]
     },
     "metadata": {},
     "output_type": "display_data"
    }
   ],
   "source": [
    "#df_final_csv\n",
    "kategorien = ['Ohne Kredit', 'Mit Kredit']\n",
    "werte = [6, 1098]\n",
    "\n",
    "\n",
    "plt.figure(figsize=(10, 6))\n",
    "bars = plt.bar(kategorien, werte, color=['blue', 'orange'])\n",
    "\n",
    "\n",
    "for bar in bars:\n",
    "    yval = bar.get_height()\n",
    "    plt.text(bar.get_x() + bar.get_width()/2, yval + 10, yval, ha='center', va='bottom')\n",
    "\n",
    "\n",
    "plt.title('Vermutliche Verteilung der Kredite')\n",
    "plt.xlabel('Kredit?')\n",
    "plt.ylabel('Anzahl Kunden')\n",
    "\n",
    "\n",
    "plt.tight_layout()\n",
    "plt.show()\n"
   ]
  },
  {
   "cell_type": "code",
   "execution_count": 60,
   "id": "747ab58d",
   "metadata": {},
   "outputs": [
    {
     "name": "stdout",
     "output_type": "stream",
     "text": [
      "Anzahl Kunden ohne Kredit: 6\n",
      "Anzahl Kunden mit Kredit: 1098\n"
     ]
    }
   ],
   "source": [
    "kunden_df['Kredit genommen'] = kunden_df['Einkommen'] < kunden_df['Preis']\n",
    "\n",
    "kunden_ohne_kredit = kunden_df['Kredit genommen'].value_counts().get(False, 0)\n",
    "kunden_mit_kredit = kunden_df['Kredit genommen'].value_counts().get(True, 0)\n",
    "\n",
    "print(\"Anzahl Kunden ohne Kredit:\", kunden_ohne_kredit)\n",
    "print(\"Anzahl Kunden mit Kredit:\", kunden_mit_kredit)"
   ]
  },
  {
   "cell_type": "code",
   "execution_count": 61,
   "id": "b78e3703",
   "metadata": {
    "scrolled": true
   },
   "outputs": [
    {
     "name": "stdout",
     "output_type": "stream",
     "text": [
      "Verteilung Kredite\n"
     ]
    },
    {
     "data": {
      "image/png": "[encoded data removed]",
      "text/plain": [
       "<Figure size 640x480 with 1 Axes>"
      ]
     },
     "metadata": {},
     "output_type": "display_data"
    }
   ],
   "source": [
    "y = np.array([6, 1098])\n",
    "\n",
    "print('Verteilung Kredite')\n",
    "plt.pie(y)\n",
    "plt.show()"
   ]
  },
  {
   "cell_type": "markdown",
   "id": "b559c4a9",
   "metadata": {},
   "source": [
    "# Aufgabe 14"
   ]
  },
  {
   "cell_type": "code",
   "execution_count": 62,
   "id": "98b4dfed",
   "metadata": {
    "scrolled": true
   },
   "outputs": [],
   "source": [
    "import statsmodels.formula.api as smf\n",
    "import pandas as pd\n",
    "import numpy as np\n",
    "from mpl_toolkits.mplot3d import Axes3D\n",
    "import statsmodels.api as sm\n",
    "import matplotlib.pyplot as plt"
   ]
  },
  {
   "cell_type": "code",
   "execution_count": 63,
   "id": "bc896b56",
   "metadata": {},
   "outputs": [
    {
     "data": {
      "text/html": [
       "<div>\n",
       "<style scoped>\n",
       "    .dataframe tbody tr th:only-of-type {\n",
       "        vertical-align: middle;\n",
       "    }\n",
       "\n",
       "    .dataframe tbody tr th {\n",
       "        vertical-align: top;\n",
       "    }\n",
       "\n",
       "    .dataframe thead th {\n",
       "        text-align: right;\n",
       "    }\n",
       "</style>\n",
       "<table border=\"1\" class=\"dataframe\">\n",
       "  <thead>\n",
       "    <tr style=\"text-align: right;\">\n",
       "      <th></th>\n",
       "      <th>Alter</th>\n",
       "      <th>Einkommen</th>\n",
       "      <th>Geschlecht</th>\n",
       "      <th>Zeit</th>\n",
       "      <th>KundeNr</th>\n",
       "      <th>Preis</th>\n",
       "      <th>Niederlassung</th>\n",
       "      <th>Kunde (1=ja)</th>\n",
       "    </tr>\n",
       "  </thead>\n",
       "  <tbody>\n",
       "    <tr>\n",
       "      <th>0</th>\n",
       "      <td>30</td>\n",
       "      <td>39919</td>\n",
       "      <td>0</td>\n",
       "      <td>29</td>\n",
       "      <td>K1814</td>\n",
       "      <td>NaN</td>\n",
       "      <td>Bayern</td>\n",
       "      <td>0</td>\n",
       "    </tr>\n",
       "    <tr>\n",
       "      <th>1</th>\n",
       "      <td>41</td>\n",
       "      <td>53430</td>\n",
       "      <td>0</td>\n",
       "      <td>27</td>\n",
       "      <td>K1544</td>\n",
       "      <td>NaN</td>\n",
       "      <td>Baden-Württemberg</td>\n",
       "      <td>0</td>\n",
       "    </tr>\n",
       "    <tr>\n",
       "      <th>2</th>\n",
       "      <td>64</td>\n",
       "      <td>73163</td>\n",
       "      <td>0</td>\n",
       "      <td>32</td>\n",
       "      <td>K1945</td>\n",
       "      <td>NaN</td>\n",
       "      <td>Baden-Württemberg</td>\n",
       "      <td>0</td>\n",
       "    </tr>\n",
       "    <tr>\n",
       "      <th>3</th>\n",
       "      <td>41</td>\n",
       "      <td>36761</td>\n",
       "      <td>0</td>\n",
       "      <td>44</td>\n",
       "      <td>K1825</td>\n",
       "      <td>NaN</td>\n",
       "      <td>Baden-Württemberg</td>\n",
       "      <td>0</td>\n",
       "    </tr>\n",
       "    <tr>\n",
       "      <th>4</th>\n",
       "      <td>35</td>\n",
       "      <td>42684</td>\n",
       "      <td>1</td>\n",
       "      <td>33</td>\n",
       "      <td>K1144</td>\n",
       "      <td>NaN</td>\n",
       "      <td>Nordrhein-Westfalen</td>\n",
       "      <td>0</td>\n",
       "    </tr>\n",
       "  </tbody>\n",
       "</table>\n",
       "</div>"
      ],
      "text/plain": [
       "   Alter  Einkommen  Geschlecht  Zeit KundeNr  Preis        Niederlassung  \\\n",
       "0     30      39919           0    29   K1814    NaN               Bayern   \n",
       "1     41      53430           0    27   K1544    NaN    Baden-Württemberg   \n",
       "2     64      73163           0    32   K1945    NaN    Baden-Württemberg   \n",
       "3     41      36761           0    44   K1825    NaN    Baden-Württemberg   \n",
       "4     35      42684           1    33   K1144    NaN  Nordrhein-Westfalen   \n",
       "\n",
       "   Kunde (1=ja)  \n",
       "0             0  \n",
       "1             0  \n",
       "2             0  \n",
       "3             0  \n",
       "4             0  "
      ]
     },
     "execution_count": 63,
     "metadata": {},
     "output_type": "execute_result"
    }
   ],
   "source": [
    "kunden_bereinigt_df = pd.read_csv(\"df_final.csv\", sep = ',')\n",
    "kunden_bereinigt_df.head()"
   ]
  },
  {
   "cell_type": "code",
   "execution_count": 71,
   "id": "ab7d4d94",
   "metadata": {},
   "outputs": [
    {
     "name": "stdout",
     "output_type": "stream",
     "text": [
      "                            OLS Regression Results                            \n",
      "==============================================================================\n",
      "Dep. Variable:                  Preis   R-squared:                       0.817\n",
      "Model:                            OLS   Adj. R-squared:                  0.817\n",
      "Method:                 Least Squares   F-statistic:                     1627.\n",
      "Date:                Wed, 03 Jan 2024   Prob (F-statistic):               0.00\n",
      "Time:                        11:00:01   Log-Likelihood:                -11686.\n",
      "No. Observations:                1095   AIC:                         2.338e+04\n",
      "Df Residuals:                    1091   BIC:                         2.340e+04\n",
      "Df Model:                           3                                         \n",
      "Covariance Type:            nonrobust                                         \n",
      "==============================================================================\n",
      "                 coef    std err          t      P>|t|      [0.025      0.975]\n",
      "------------------------------------------------------------------------------\n",
      "Intercept    866.6766   1436.057      0.604      0.546   -1951.070    3684.423\n",
      "Alter        543.0096     40.209     13.505      0.000     464.114     621.906\n",
      "Einkommen      1.0083      0.029     34.762      0.000       0.951       1.065\n",
      "Geschlecht  2252.1585    658.792      3.419      0.001     959.516    3544.801\n",
      "==============================================================================\n",
      "Omnibus:                      131.587   Durbin-Watson:                   2.091\n",
      "Prob(Omnibus):                  0.000   Jarque-Bera (JB):              581.391\n",
      "Skew:                           0.477   Prob(JB):                    5.66e-127\n",
      "Kurtosis:                       6.440   Cond. No.                     2.80e+05\n",
      "==============================================================================\n",
      "\n",
      "Notes:\n",
      "[1] Standard Errors assume that the covariance matrix of the errors is correctly specified.\n",
      "[2] The condition number is large, 2.8e+05. This might indicate that there are\n",
      "strong multicollinearity or other numerical problems.\n"
     ]
    },
    {
     "data": {
      "text/plain": [
       "Intercept      866.676565\n",
       "Alter          543.009642\n",
       "Einkommen        1.008274\n",
       "Geschlecht    2252.158464\n",
       "dtype: float64"
      ]
     },
     "execution_count": 71,
     "metadata": {},
     "output_type": "execute_result"
    }
   ],
   "source": [
    "reg = smf.ols(\"Preis ~ Alter+Einkommen+Geschlecht\", data = kunden_bereinigt_df)\n",
    "resultat_reg = reg.fit()\n",
    "print(resultat_reg.summary())\n",
    "coef = resultat_reg.params\n",
    "coef"
   ]
  },
  {
   "cell_type": "code",
   "execution_count": 65,
   "id": "5a56e51e",
   "metadata": {
    "scrolled": true
   },
   "outputs": [
    {
     "data": {
      "image/png": "[encoded data removed]",
      "text/plain": [
       "<Figure size 640x480 with 1 Axes>"
      ]
     },
     "metadata": {},
     "output_type": "display_data"
    }
   ],
   "source": [
    "fig, ax = plt.subplots()\n",
    "fig = sm.graphics.plot_fit(resultat_reg, 1, ax=ax)\n",
    "plt.show()"
   ]
  },
  {
   "cell_type": "code",
   "execution_count": 66,
   "id": "53a84c35",
   "metadata": {},
   "outputs": [
    {
     "data": {
      "image/png": "[encoded data removed]",
      "text/plain": [
       "<Figure size 640x480 with 1 Axes>"
      ]
     },
     "metadata": {},
     "output_type": "display_data"
    }
   ],
   "source": [
    "fig, ax = plt.subplots()\n",
    "fig = sm.graphics.plot_fit(resultat_reg, 2, ax=ax)\n",
    "plt.show()"
   ]
  },
  {
   "cell_type": "markdown",
   "id": "3439bcdd",
   "metadata": {
    "scrolled": true
   },
   "source": [
    "Die sozioökonomischen Merkmale, die den Kaufpreis beeinflussen, sind den Alter, Einkommen und Geschlecht. Dank der Ordinary Least Squares (OLS) Model für die Multiple Linear Regression (weil wir mehreren unabhängigen Variablen haben) ist R^2 = 0.816."
   ]
  },
  {
   "cell_type": "markdown",
   "id": "f09cd4cd",
   "metadata": {},
   "source": [
    "# Aufgabe 15"
   ]
  },
  {
   "cell_type": "code",
   "execution_count": 67,
   "id": "c6a47de1",
   "metadata": {
    "scrolled": true
   },
   "outputs": [
    {
     "name": "stdout",
     "output_type": "stream",
     "text": [
      "Prognostizierter Kaufpreis für den 32-jährigen Kunden: 50743.357755365774 Euro\n"
     ]
    }
   ],
   "source": [
    "new_data1 = np.array([1, 32, 30000, 1])\n",
    "prognose_preis1 = reg.predict(resultat_reg.params, new_data1)\n",
    "\n",
    "print(f\"Prognostizierter Kaufpreis für den 32-jährigen Kunden: {prognose_preis1} Euro\")"
   ]
  },
  {
   "cell_type": "code",
   "execution_count": 68,
   "id": "1d76f099",
   "metadata": {},
   "outputs": [
    {
     "name": "stdout",
     "output_type": "stream",
     "text": [
      "Prognostizierter Kaufpreis für den 51-jährigen Kunden: 85259.11230247609 Euro\n"
     ]
    }
   ],
   "source": [
    "new_data2 = np.array([1, 51, 54000, 1])\n",
    "prognose_preis2 = (np.sum(resultat_reg.params*new_data2))\n",
    "\n",
    "print(f\"Prognostizierter Kaufpreis für den 51-jährigen Kunden: {prognose_preis2} Euro\")"
   ]
  },
  {
   "cell_type": "markdown",
   "id": "3fd88847",
   "metadata": {},
   "source": [
    "# Aufgabe 16"
   ]
  },
  {
   "cell_type": "code",
   "execution_count": 74,
   "id": "bf344ab3",
   "metadata": {},
   "outputs": [
    {
     "name": "stdout",
     "output_type": "stream",
     "text": [
      "standartisierte Koeffizienten (Beta Koeffizienten):\n",
      "Intercept     0.000058\n",
      "Alter         0.001291\n",
      "Einkommen     0.003323\n",
      "Geschlecht    0.000327\n",
      "dtype: float64\n"
     ]
    }
   ],
   "source": [
    "cov_matrix = resultat_reg.cov_params()\n",
    "residual_std = np.sqrt(np.sum(resultat_reg.resid**2)/resultat_reg.df_resid)\n",
    "\n",
    "beta_std = coef / (residual_std * np.sqrt(np.diag(cov_matrix)))\n",
    "\n",
    "print(\"standartisierte Koeffizienten (Beta Koeffizienten):\")\n",
    "print(beta_std)"
   ]
  },
  {
   "cell_type": "markdown",
   "id": "a10e4dc3",
   "metadata": {},
   "source": [
    "Das Einkommen hat den größten Koeffizienten, was bedeutet, dass der Preis des Autos (die abhängige Variable) am stärksten durch das Einkommen beeinflusst wird."
   ]
  },
  {
   "cell_type": "markdown",
   "id": "edcd2a18",
   "metadata": {},
   "source": [
    "# Aufgabe 17"
   ]
  },
  {
   "cell_type": "code",
   "execution_count": 75,
   "id": "4c647574",
   "metadata": {},
   "outputs": [],
   "source": [
    "from sklearn.linear_model import LogisticRegression"
   ]
  },
  {
   "cell_type": "code",
   "execution_count": 76,
   "id": "ae144685",
   "metadata": {},
   "outputs": [
    {
     "name": "stdout",
     "output_type": "stream",
     "text": [
      "Koeffizienten: [[3.50233605e-09 3.08505833e-06 9.03553587e-11]]\n",
      "Achsenabschnitt: [6.78099306e-11]\n"
     ]
    }
   ],
   "source": [
    "# Auswahl der unabhängigen Variablen (Alter, Einkommen, Geschlecht)\n",
    "X_logistic = kunden_bereinigt_df[['Alter', 'Einkommen', 'Geschlecht']]\n",
    "y_logistic = kunden_bereinigt_df['Kunde (1=ja)']\n",
    "\n",
    "# Erstellung des logistischen Regressionsmodells\n",
    "logistic_model = LogisticRegression()\n",
    "logistic_model.fit(X_logistic, y_logistic)\n",
    "\n",
    "# Ausgabe der Modellkoeffizienten\n",
    "coefficients = logistic_model.coef_\n",
    "intercept = logistic_model.intercept_\n",
    "\n",
    "print(\"Koeffizienten:\", coefficients)\n",
    "print(\"Achsenabschnitt:\", intercept)"
   ]
  },
  {
   "cell_type": "markdown",
   "id": "9fccee38",
   "metadata": {},
   "source": [
    "# Aufgabe 18 "
   ]
  },
  {
   "cell_type": "code",
   "execution_count": 77,
   "id": "672d390d",
   "metadata": {
    "scrolled": true
   },
   "outputs": [
    {
     "name": "stdout",
     "output_type": "stream",
     "text": [
      "Wahrscheinlichkeit für Kunde 1 (32 Jahre, 30.000 Euro, 30 Min. Testzeit): 0.715339\n",
      "Wahrscheinlichkeit für Kunde 2 (51 Jahre, 54.000 Euro, 45 Min. Testzeit): 0.719300\n"
     ]
    }
   ],
   "source": [
    "# Unabhängige Variablen (Alter, Einkommen, Testzeit) und abhängige Variable (Kunde ja/nein)\n",
    "X = kunden_bereinigt_df[['Alter', 'Einkommen', 'Zeit']]\n",
    "y = kunden_bereinigt_df ['Kunde (1=ja)']\n",
    "\n",
    "# Erstellung und Training des logistischen Regressionsmodells\n",
    "logistic_model = LogisticRegression()\n",
    "logistic_model.fit(X, y)\n",
    "\n",
    "# Prognose für die gewünschten Kundenprofile\n",
    "# Kunde 1: 32 Jahre alt, Einkommen 30.000 Euro, 30 Minuten Testzeit\n",
    "# Kunde 2: 51 Jahre alt, Einkommen 54.000 Euro, 45 Minuten Testzeit\n",
    "customer_profiles = pd.DataFrame({\n",
    "    'Alter': [32, 51],\n",
    "    'Einkommen': [30000, 54000],\n",
    "    'Zeit': [30, 45]\n",
    "})\n",
    "\n",
    "# Berechnung der Kaufwahrscheinlichkeiten\n",
    "purchase_probabilities = logistic_model.predict_proba(customer_profiles)\n",
    "\n",
    "# Anzeige der Wahrscheinlichkeiten für 'Kunde = Ja' (1)\n",
    "probabilities = purchase_probabilities[:, 1]\n",
    "print(f\"Wahrscheinlichkeit für Kunde 1 (32 Jahre, 30.000 Euro, 30 Min. Testzeit): {probabilities[0]:.6f}\")\n",
    "print(f\"Wahrscheinlichkeit für Kunde 2 (51 Jahre, 54.000 Euro, 45 Min. Testzeit): {probabilities[1]:.6f}\")"
   ]
  },
  {
   "cell_type": "markdown",
   "id": "4d39b170",
   "metadata": {},
   "source": [
    "# Aufgabe 19. \n",
    "Auf welche Probleme sind Sie bei der Zusammenführung des Datensatzes gestoßen? \n",
    "Stellen Sie die Operationen vor, die Sie zum Zusammenführen und Bereinigen  der Daten durchgeführt haben"
   ]
  },
  {
   "cell_type": "markdown",
   "id": "468f8667",
   "metadata": {},
   "source": [
    "Bei der Zusammenführung der Datensätze besucher.csv und kunden.csv mussten vorab verschiedene Operationen in Python mit der Bibliothek Pandas durchgeführt werden, um die Daten für die Analyse vorzubereiten. Zuerst wurden die Datentypen ,sowie Trennzeichen der Nachkommastelle standardisiert , um die Konsistenz der Daten zu gewährleisten. "
   ]
  },
  {
   "cell_type": "code",
   "execution_count": null,
   "id": "a2a7784d",
   "metadata": {},
   "outputs": [],
   "source": [
    "besucher_df['Zeit'] = besucher_df['Zeit'].str.replace(',', '.').astype(float).astype(int)\n",
    "kunden_df['Zeit'] = kunden_df ['Zeit'].astype(int)\n",
    "besucher_df['Geschlecht'] = besucher_df['Geschlecht'].astype(int)\n",
    "kunden_df['Geschlecht'] = kunden_df ['Geschlecht'].astype(int)\n",
    "besucher_df['Alter'] = besucher_df['Alter'].astype(int)\n",
    "kunden_df['Alter'] = kunden_df ['Alter'].astype(int)"
   ]
  },
  {
   "cell_type": "markdown",
   "id": "7fe15223",
   "metadata": {},
   "source": [
    "Unsinnige Einträge in den Umfragen wurden identifiziert und nach Beratung im Team gelöscht, da wir als Analysten nicht feststellen können, welche anderen Angaben dieser Kunden und Besucher ernsthaft gemeint waren bzw. damit wir unsere Analyse auf verglichbaren Angaben ohne willkürliche Anpassung einzelner Daten durchführen können können. Anschließend wurden die beiden Datein \"outer merged\":"
   ]
  },
  {
   "cell_type": "code",
   "execution_count": null,
   "id": "109ddd83",
   "metadata": {},
   "outputs": [],
   "source": [
    "#Löschen von Eintragung wenn Gender fehlt:\n",
    "besucher_df = besucher_df[besucher_df['Geschlecht'] != -1]\n",
    "kunden_df = kunden_df[kunden_df['Geschlecht'] != -1]\n",
    "\n",
    "#Ausschließen von unrealistischem Einkommen und Alter:\n",
    "merged_minus_df = merged_df[(merged_df['Einkommen'] <= 100000000) & (merged_df['Einkommen'] >= 0)& (merged_df[\"Alter\"]<= 90)]\n"
   ]
  },
  {
   "cell_type": "markdown",
   "id": "31b8411e",
   "metadata": {},
   "source": [
    "Anschließend wurden nachvollziehbare Fehler wie beispielsweise bei zu genauer Angabe der Niederlassung dem\n",
    "“richtigen” Bundeslandes einheitlich zugeordnet:\n"
   ]
  },
  {
   "cell_type": "code",
   "execution_count": null,
   "id": "8e6d5155",
   "metadata": {},
   "outputs": [],
   "source": [
    "geo_data = geo_data.replace('Düsseldorf', 'Nordrhein-Westfalen')\n",
    "geo_data = geo_data.replace('NRW', 'Nordrhein-Westfalen')\n",
    "geo_data = geo_data.replace('BERLIN', 'Berlin')\n",
    "geo_data = geo_data.replace('Berlin-Charlottenburg', 'Berlin')"
   ]
  },
  {
   "cell_type": "markdown",
   "id": "5be6884b",
   "metadata": {},
   "source": [
    "Schlussendlich wurden die Geo und die bereit zusammengefügte CSV Datei unter der Berücksichtigung der Trennzeichen \n",
    "”inner gemerged”, eine Hilfsvariable zur Identifikation von Kunden hinzugefügt und der Datensatz final als\n",
    "df_final.csv abgespeichert."
   ]
  },
  {
   "cell_type": "markdown",
   "id": "ca5d60a6",
   "metadata": {},
   "source": [
    "# Aufgabe 20\n",
    "Welche Vorschläge würden Sie der Kundenabteilung für die Umfrage im nächsten Jahr machen? Welche zusätzlichen Informationen sollten gesammelt werden? Formulieren Sie zwei Vorschläge."
   ]
  },
  {
   "cell_type": "markdown",
   "id": "57a32740",
   "metadata": {},
   "source": [
    "Von Operativen Vorteil wäre es eine Fahrzeugnummer einzuführen die die Marke, das Modell sowie den Einkaufspreis des Modells erfasst. Um anschließend eine Analyse durchzuführen in der Profitmargen, Umsatz als auch Gewinnanteile von den einzelnen Modellen  Kundencharakteristiken und Niederlassung zuzuordnen werden, um in den nächsten Jahren den Umsatz als auch Gewinn zu maximieren.  "
   ]
  },
  {
   "cell_type": "markdown",
   "id": "f519fa42",
   "metadata": {},
   "source": [
    "Desweiteren könnte eine digitale Umfrage versendet werden, wo die einzelenen Felder für die Informationen der Befragten, durch Filter die Angabe vom unrealistische Zahlen nicht zulassen."
   ]
  },
  {
   "cell_type": "code",
   "execution_count": null,
   "id": "f2fab3dc",
   "metadata": {},
   "outputs": [],
   "source": []
  }
 ],
 "metadata": {
  "kernelspec": {
   "display_name": "Python 3 (ipykernel)",
   "language": "python",
   "name": "python3"
  },
  "language_info": {
   "codemirror_mode": {
    "name": "ipython",
    "version": 3
   },
   "file_extension": ".py",
   "mimetype": "text/x-python",
   "name": "python",
   "nbconvert_exporter": "python",
   "pygments_lexer": "ipython3",
   "version": "3.11.5"
  }
 },
 "nbformat": 4,
 "nbformat_minor": 5
}
